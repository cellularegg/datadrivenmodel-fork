{
 "cells": [
  {
   "cell_type": "markdown",
   "metadata": {},
   "source": [
    "# DDM: Model Validation\n",
    "\n",
    "This notebook provides an overview of the tools built in the DDM for extracting predictions from your trained DDM and for evauating the performance of the DDM.\n",
    "\n",
    "---\n",
    "\n",
    "We utilize `hydra` to save the configuration of our datasets and our models. The default configuration is in the `conf/config.yaml` directory:\n",
    "\n",
    "```YAML\n",
    "defaults:\n",
    "  - data: cartpole_st1_at.yaml\n",
    "  - model: SVR.yaml\n",
    "  - simulator: gboost_cartpole.yaml\n",
    "```\n",
    "\n",
    "Note that the configuration file points to three additional configuration files for each component: the data, the model, and the simulator.\n",
    "\n",
    "While the configuration file already has default values specified you can override any element of the configuration file using the `overrides` option. For example, we override the data configuration to instead use the `yaml` file specified in `data/cartpole-st_at.yaml` and the model configuration to use the `yaml` file specified in `model/xgboost.yaml`.\n"
   ]
  },
  {
   "cell_type": "code",
   "execution_count": 1,
   "metadata": {},
   "outputs": [
    {
     "name": "stdout",
     "output_type": "stream",
     "text": [
      "/Users/alizaidi-msft/Documents/bonsai/datadrivenmodel\n"
     ]
    }
   ],
   "source": [
    "cd .."
   ]
  },
  {
   "cell_type": "code",
   "execution_count": 2,
   "metadata": {},
   "outputs": [],
   "source": [
    "from hydra.experimental import initialize, compose\n",
    "from model_loader import available_models\n",
    "import logging\n",
    "import matplotlib.pyplot as plt\n",
    "import numpy as np\n",
    "from rich import print\n",
    "from rich.logging import RichHandler\n",
    "import copy\n",
    "\n",
    "logging.basicConfig(\n",
    "    level=logging.INFO,\n",
    "    format=\"%(message)s\",\n",
    "    datefmt=\"[%X]\",\n",
    "    handlers=[RichHandler()]\n",
    ")\n",
    "logger = logging.getLogger(\"ddm_validation\")\n",
    "logger.setLevel(logging.INFO)"
   ]
  },
  {
   "cell_type": "code",
   "execution_count": 3,
   "metadata": {},
   "outputs": [
    {
     "name": "stderr",
     "output_type": "stream",
     "text": [
      "/Users/alizaidi-msft/miniconda3/envs/ddm2/lib/python3.7/site-packages/hydra/plugins/config_source.py:190: UserWarning: \n",
      "Missing @package directive data/cartpole_st_at.yaml in file:///Users/alizaidi-msft/Documents/bonsai/datadrivenmodel/conf.\n",
      "See https://hydra.cc/docs/next/upgrades/0.11_to_1.0/adding_a_package_directive\n",
      "  warnings.warn(message=msg, category=UserWarning)\n",
      "/Users/alizaidi-msft/miniconda3/envs/ddm2/lib/python3.7/site-packages/hydra/plugins/config_source.py:190: UserWarning: \n",
      "Missing @package directive model/lightgbm.yaml in file:///Users/alizaidi-msft/Documents/bonsai/datadrivenmodel/conf.\n",
      "See https://hydra.cc/docs/next/upgrades/0.11_to_1.0/adding_a_package_directive\n",
      "  warnings.warn(message=msg, category=UserWarning)\n",
      "/Users/alizaidi-msft/miniconda3/envs/ddm2/lib/python3.7/site-packages/hydra/plugins/config_source.py:190: UserWarning: \n",
      "Missing @package directive simulator/cartpole_simparam.yaml in file:///Users/alizaidi-msft/Documents/bonsai/datadrivenmodel/conf.\n",
      "See https://hydra.cc/docs/next/upgrades/0.11_to_1.0/adding_a_package_directive\n",
      "  warnings.warn(message=msg, category=UserWarning)\n"
     ]
    }
   ],
   "source": [
    "initialize(config_path=\"../conf\", job_name=\"model_validation\")\n",
    "cfg = compose(config_name=\"config\", overrides=[\"data=cartpole_st_at\", \"model=lightgbm\"])"
   ]
  },
  {
   "cell_type": "markdown",
   "metadata": {},
   "source": [
    "## 1. Importing the Dataset"
   ]
  },
  {
   "cell_type": "code",
   "execution_count": 4,
   "metadata": {},
   "outputs": [
    {
     "data": {
      "text/plain": [
       "{'path': 'csv_data/cartpole_at_st.csv', 'full_or_relative': 'relative', 'inputs': 'state', 'outputs': 'state', 'augmented_cols': ['config_length', 'config_masspole', 'action_command'], 'iteration_order': 1, 'episode_col': 'episode', 'iteration_col': 'iteration', 'max_rows': -1, 'scale_data': True, 'diff_state': False, 'concatenated_steps': 4, 'concatenated_zero_padding': True, 'test_perc': 0.25}"
      ]
     },
     "execution_count": 4,
     "metadata": {},
     "output_type": "execute_result"
    }
   ],
   "source": [
    "cfg[\"data\"]"
   ]
  },
  {
   "cell_type": "code",
   "execution_count": 5,
   "metadata": {},
   "outputs": [
    {
     "data": {
      "text/plain": [
       "{'name': 'lightgbm', 'build_params': {'model_type': 'lightgbm', 'fit_separate': False, 'halt_model': False, 'objective': 'reg:squarederror', 'scale_data': True, 'num_leaves': 10, 'n_estimators': 100, 'learning_rate': 0.3, 'max_depth': 6}, 'saver': {'filename': 'models/boost/lightgbm'}, 'sweep': {'run': True, 'search_algorithm': 'bayesian', 'split_strategy': 'timeseries', 'num_trials': 50, 'scoring_func': 'r2', 'early_stopping': False, 'results_csv_path': 'lightgbm/search_results.csv', 'params': {'estimator__max_depth': [-1, 5, 10, 25], 'estimator__learning_rate': [0.01, 0.05, 0.1, 0.25], 'estimator__num_leaves': [10, 31, 50], 'estimator__n_estimators': [10, 100, 250], 'estimator__boosting_type': ['gbdt', 'dart', 'goss'], 'estimator__reg_alpha': [0, 0.01, 0.05, 0.1], 'estimator__reg_lambda': [0, 0.01, 0.05, 0.1]}}}"
      ]
     },
     "execution_count": 5,
     "metadata": {},
     "output_type": "execute_result"
    }
   ],
   "source": [
    "cfg[\"model\"]"
   ]
  },
  {
   "cell_type": "code",
   "execution_count": 6,
   "metadata": {},
   "outputs": [],
   "source": [
    "# Extract features from yaml file \n",
    "input_cols = cfg['data']['inputs']\n",
    "output_cols = cfg['data']['outputs']\n",
    "augmented_cols = cfg['data']['augmented_cols']\n",
    "dataset_path = cfg['data']['path']\n",
    "iteration_order = cfg['data']['iteration_order']\n",
    "episode_col = cfg['data']['episode_col']\n",
    "iteration_col = cfg['data']['iteration_col']\n",
    "max_rows = cfg['data']['max_rows']\n",
    "concatenated_steps = cfg['data']['concatenated_steps']\n",
    "concatenated_zero_padding = cfg['data']['concatenated_zero_padding']"
   ]
  },
  {
   "cell_type": "code",
   "execution_count": 7,
   "metadata": {},
   "outputs": [
    {
     "data": {
      "text/html": [
       "<pre style=\"white-space:pre;overflow-x:auto;line-height:normal;font-family:Menlo,'DejaVu Sans Mono',consolas,'Courier New',monospace\">DATA STRUCTURE SELECTED:\n",
       "</pre>\n"
      ],
      "text/plain": [
       "<rich.jupyter.JupyterRenderable at 0x7f8b18ccb8d0>"
      ]
     },
     "metadata": {},
     "output_type": "display_data"
    },
    {
     "data": {
      "text/html": [
       "<pre style=\"white-space:pre;overflow-x:auto;line-height:normal;font-family:Menlo,'DejaVu Sans Mono',consolas,'Courier New',monospace\"> - input_cols: state\n",
       "</pre>\n"
      ],
      "text/plain": [
       "<rich.jupyter.JupyterRenderable at 0x7f8b18ccbbd0>"
      ]
     },
     "metadata": {},
     "output_type": "display_data"
    },
    {
     "data": {
      "text/html": [
       "<pre style=\"white-space:pre;overflow-x:auto;line-height:normal;font-family:Menlo,'DejaVu Sans Mono',consolas,'Courier New',monospace\"> - augmented_cols: <span style=\"font-weight: bold\">[</span><span style=\"color: #008000; text-decoration-color: #008000\">'config_length'</span>, <span style=\"color: #008000; text-decoration-color: #008000\">'config_masspole'</span>, <span style=\"color: #008000; text-decoration-color: #008000\">'action_command'</span><span style=\"font-weight: bold\">]</span>\n",
       "</pre>\n"
      ],
      "text/plain": [
       "<rich.jupyter.JupyterRenderable at 0x7f8b18ccbbd0>"
      ]
     },
     "metadata": {},
     "output_type": "display_data"
    },
    {
     "data": {
      "text/html": [
       "<pre style=\"white-space:pre;overflow-x:auto;line-height:normal;font-family:Menlo,'DejaVu Sans Mono',consolas,'Courier New',monospace\"> - output_cols: state\n",
       "</pre>\n"
      ],
      "text/plain": [
       "<rich.jupyter.JupyterRenderable at 0x7f8b18ccbb50>"
      ]
     },
     "metadata": {},
     "output_type": "display_data"
    }
   ],
   "source": [
    "print(\"DATA STRUCTURE SELECTED:\")\n",
    "print(\" - input_cols:\", input_cols)\n",
    "print(\" - augmented_cols:\", augmented_cols)\n",
    "print(\" - output_cols:\", output_cols)"
   ]
  },
  {
   "cell_type": "markdown",
   "metadata": {},
   "source": [
    "##  2. Model Definition\n",
    "\n",
    "The `available_models` dictionary provides wrappers for the available models in this repository. We utilize `cfg[\"model\"]` to load and build the model specified in the `model.yaml` file.\n",
    "\n",
    "### Training Hyperparameters\n",
    "\n",
    "Every model has its own hyperparameters, specified through the `cfg[\"model\"][\"build_params\"]` dictionary, which can be modified directly in the dictionary below or through the `hydra` overrides."
   ]
  },
  {
   "cell_type": "code",
   "execution_count": 8,
   "metadata": {},
   "outputs": [
    {
     "data": {
      "text/plain": [
       "{'model_type': 'lightgbm', 'fit_separate': False, 'halt_model': False, 'objective': 'reg:squarederror', 'scale_data': True, 'num_leaves': 10, 'n_estimators': 100, 'learning_rate': 0.3, 'max_depth': 6}"
      ]
     },
     "execution_count": 8,
     "metadata": {},
     "output_type": "execute_result"
    }
   ],
   "source": [
    "cfg[\"model\"][\"build_params\"]"
   ]
  },
  {
   "cell_type": "markdown",
   "metadata": {},
   "source": [
    "## 3. Train the Model"
   ]
  },
  {
   "cell_type": "code",
   "execution_count": 9,
   "metadata": {},
   "outputs": [],
   "source": [
    "def train_models(config=cfg):\n",
    "\n",
    "    logger.info(f'Model type: {available_models[config[\"model\"][\"name\"]]}')\n",
    "    Model = available_models[config[\"model\"][\"name\"]]\n",
    "    model = Model()\n",
    "    logger.info(f\"Building model with parameters: {config}\")\n",
    "    model.build_model(\n",
    "        **config[\"model\"][\"build_params\"]\n",
    "    )\n",
    "    logger.info(f\"Loading data from {dataset_path}\")\n",
    "    global X, y\n",
    "    X, y = model.load_csv(\n",
    "        input_cols=input_cols,\n",
    "        output_cols=output_cols,\n",
    "        augm_cols=list(augmented_cols),\n",
    "        dataset_path=dataset_path,\n",
    "        iteration_order=iteration_order,\n",
    "        episode_col=episode_col,\n",
    "        iteration_col=iteration_col,\n",
    "        max_rows=max_rows,\n",
    "        concatenated_steps=concatenated_steps,\n",
    "        concatenated_zero_padding=concatenated_zero_padding \n",
    "    )\n",
    "\n",
    "    logger.info(f\"Fitting model...\")\n",
    "    model.fit(X, y)\n",
    "    logger.info(f\"Model trained!\")\n",
    "\n",
    "    return model"
   ]
  },
  {
   "cell_type": "code",
   "execution_count": 10,
   "metadata": {},
   "outputs": [
    {
     "data": {
      "text/html": [
       "<pre style=\"white-space:pre;overflow-x:auto;line-height:normal;font-family:Menlo,'DejaVu Sans Mono',consolas,'Courier New',monospace\"><span style=\"color: #7fbfbf; text-decoration-color: #7fbfbf\">[15:51:24] </span><span style=\"color: #000080; text-decoration-color: #000080\">INFO    </span> Model type: <span style=\"font-weight: bold\">&lt;</span><span style=\"color: #ff00ff; text-decoration-color: #ff00ff; font-weight: bold\">class</span><span style=\"color: #000000; text-decoration-color: #000000\"> </span>                      <a href=\"file://<ipython-input-9-945761283b65>\"><span style=\"color: #7f7f7f; text-decoration-color: #7f7f7f\">&lt;ipython-input-9-945761283b65&gt;</span></a><span style=\"color: #7f7f7f; text-decoration-color: #7f7f7f\">:3</span>\n",
       "                    <span style=\"color: #008000; text-decoration-color: #008000\">'gboost_models.GBoostModel'</span><span style=\"font-weight: bold\">&gt;</span>                                             \n",
       "</pre>\n"
      ],
      "text/plain": [
       "<rich.jupyter.JupyterRenderable at 0x7f8b684cba90>"
      ]
     },
     "metadata": {},
     "output_type": "display_data"
    },
    {
     "data": {
      "text/html": [
       "<pre style=\"white-space:pre;overflow-x:auto;line-height:normal;font-family:Menlo,'DejaVu Sans Mono',consolas,'Courier New',monospace\"><span style=\"color: #7fbfbf; text-decoration-color: #7fbfbf\">           </span><span style=\"color: #000080; text-decoration-color: #000080\">INFO    </span> Building model with parameters: <span style=\"font-weight: bold\">{</span><span style=\"color: #008000; text-decoration-color: #008000\">'data'</span>: <a href=\"file://<ipython-input-9-945761283b65>\"><span style=\"color: #7f7f7f; text-decoration-color: #7f7f7f\">&lt;ipython-input-9-945761283b65&gt;</span></a><span style=\"color: #7f7f7f; text-decoration-color: #7f7f7f\">:6</span>\n",
       "                    <span style=\"font-weight: bold\">{</span><span style=\"color: #008000; text-decoration-color: #008000\">'path'</span>: <span style=\"color: #008000; text-decoration-color: #008000\">'csv_data/cartpole_at_st.csv'</span>,                                  \n",
       "                    <span style=\"color: #008000; text-decoration-color: #008000\">'full_or_relative'</span>: <span style=\"color: #008000; text-decoration-color: #008000\">'relative'</span>,                                          \n",
       "                    <span style=\"color: #008000; text-decoration-color: #008000\">'inputs'</span>: <span style=\"color: #008000; text-decoration-color: #008000\">'state'</span>, <span style=\"color: #008000; text-decoration-color: #008000\">'outputs'</span>: <span style=\"color: #008000; text-decoration-color: #008000\">'state'</span>,                                   \n",
       "                    <span style=\"color: #008000; text-decoration-color: #008000\">'augmented_cols'</span>: <span style=\"font-weight: bold\">[</span><span style=\"color: #008000; text-decoration-color: #008000\">'config_length'</span>,                                      \n",
       "                    <span style=\"color: #008000; text-decoration-color: #008000\">'config_masspole'</span>, <span style=\"color: #008000; text-decoration-color: #008000\">'action_command'</span><span style=\"font-weight: bold\">]</span>,                                    \n",
       "                    <span style=\"color: #008000; text-decoration-color: #008000\">'iteration_order'</span>: <span style=\"color: #000080; text-decoration-color: #000080; font-weight: bold\">1</span>, <span style=\"color: #008000; text-decoration-color: #008000\">'episode_col'</span>:                                     \n",
       "                    <span style=\"color: #008000; text-decoration-color: #008000\">'episode'</span>, <span style=\"color: #008000; text-decoration-color: #008000\">'iteration_col'</span>: <span style=\"color: #008000; text-decoration-color: #008000\">'iteration'</span>,                                 \n",
       "                    <span style=\"color: #008000; text-decoration-color: #008000\">'max_rows'</span>: <span style=\"color: #000080; text-decoration-color: #000080; font-weight: bold\">-1</span>, <span style=\"color: #008000; text-decoration-color: #008000\">'scale_data'</span>: <span style=\"color: #00ff00; text-decoration-color: #00ff00; font-style: italic\">True</span>,                                      \n",
       "                    <span style=\"color: #008000; text-decoration-color: #008000\">'diff_state'</span>: <span style=\"color: #ff0000; text-decoration-color: #ff0000; font-style: italic\">False</span>,                                                     \n",
       "                    <span style=\"color: #008000; text-decoration-color: #008000\">'concatenated_steps'</span>: <span style=\"color: #000080; text-decoration-color: #000080; font-weight: bold\">4</span>,                                                 \n",
       "                    <span style=\"color: #008000; text-decoration-color: #008000\">'concatenated_zero_padding'</span>: <span style=\"color: #00ff00; text-decoration-color: #00ff00; font-style: italic\">True</span>,                                       \n",
       "                    <span style=\"color: #008000; text-decoration-color: #008000\">'test_perc'</span>: <span style=\"color: #000080; text-decoration-color: #000080; font-weight: bold\">0.25</span><span style=\"font-weight: bold\">}</span>, <span style=\"color: #008000; text-decoration-color: #008000\">'model'</span>: <span style=\"font-weight: bold\">{</span><span style=\"color: #008000; text-decoration-color: #008000\">'name'</span>:                                    \n",
       "                    <span style=\"color: #008000; text-decoration-color: #008000\">'lightgbm'</span>, <span style=\"color: #008000; text-decoration-color: #008000\">'build_params'</span>:                                              \n",
       "                    <span style=\"font-weight: bold\">{</span><span style=\"color: #008000; text-decoration-color: #008000\">'model_type'</span>: <span style=\"color: #008000; text-decoration-color: #008000\">'lightgbm'</span>,                                               \n",
       "                    <span style=\"color: #008000; text-decoration-color: #008000\">'fit_separate'</span>: <span style=\"color: #ff0000; text-decoration-color: #ff0000; font-style: italic\">False</span>, <span style=\"color: #008000; text-decoration-color: #008000\">'halt_model'</span>:                                     \n",
       "                    <span style=\"color: #ff0000; text-decoration-color: #ff0000; font-style: italic\">False</span>, <span style=\"color: #008000; text-decoration-color: #008000\">'objective'</span>: <span style=\"color: #008000; text-decoration-color: #008000\">'reg:squarederror'</span>,                                  \n",
       "                    <span style=\"color: #008000; text-decoration-color: #008000\">'scale_data'</span>: <span style=\"color: #00ff00; text-decoration-color: #00ff00; font-style: italic\">True</span>, <span style=\"color: #008000; text-decoration-color: #008000\">'num_leaves'</span>: <span style=\"color: #000080; text-decoration-color: #000080; font-weight: bold\">10</span>,                                    \n",
       "                    <span style=\"color: #008000; text-decoration-color: #008000\">'n_estimators'</span>: <span style=\"color: #000080; text-decoration-color: #000080; font-weight: bold\">100</span>, <span style=\"color: #008000; text-decoration-color: #008000\">'learning_rate'</span>:                                    \n",
       "                    <span style=\"color: #000080; text-decoration-color: #000080; font-weight: bold\">0.3</span>, <span style=\"color: #008000; text-decoration-color: #008000\">'max_depth'</span>: <span style=\"color: #000080; text-decoration-color: #000080; font-weight: bold\">6</span><span style=\"font-weight: bold\">}</span>, <span style=\"color: #008000; text-decoration-color: #008000\">'saver'</span>:                                           \n",
       "                    <span style=\"font-weight: bold\">{</span><span style=\"color: #008000; text-decoration-color: #008000\">'filename'</span>: <span style=\"color: #008000; text-decoration-color: #008000\">'models/boost/lightgbm'</span><span style=\"font-weight: bold\">}</span>,                                   \n",
       "                    <span style=\"color: #008000; text-decoration-color: #008000\">'sweep'</span>: <span style=\"font-weight: bold\">{</span><span style=\"color: #008000; text-decoration-color: #008000\">'run'</span>: <span style=\"color: #00ff00; text-decoration-color: #00ff00; font-style: italic\">True</span>,                                                   \n",
       "                    <span style=\"color: #008000; text-decoration-color: #008000\">'search_algorithm'</span>: <span style=\"color: #008000; text-decoration-color: #008000\">'bayesian'</span>,                                          \n",
       "                    <span style=\"color: #008000; text-decoration-color: #008000\">'split_strategy'</span>: <span style=\"color: #008000; text-decoration-color: #008000\">'timeseries'</span>,                                          \n",
       "                    <span style=\"color: #008000; text-decoration-color: #008000\">'num_trials'</span>: <span style=\"color: #000080; text-decoration-color: #000080; font-weight: bold\">50</span>, <span style=\"color: #008000; text-decoration-color: #008000\">'scoring_func'</span>: <span style=\"color: #008000; text-decoration-color: #008000\">'r2'</span>,                                  \n",
       "                    <span style=\"color: #008000; text-decoration-color: #008000\">'early_stopping'</span>: <span style=\"color: #ff0000; text-decoration-color: #ff0000; font-style: italic\">False</span>,                                                 \n",
       "                    <span style=\"color: #008000; text-decoration-color: #008000\">'results_csv_path'</span>:                                                      \n",
       "                    <span style=\"color: #008000; text-decoration-color: #008000\">'lightgbm/search_results.csv'</span>, <span style=\"color: #008000; text-decoration-color: #008000\">'params'</span>:                                 \n",
       "                    <span style=\"font-weight: bold\">{</span><span style=\"color: #008000; text-decoration-color: #008000\">'estimator__max_depth'</span>: <span style=\"font-weight: bold\">[</span><span style=\"color: #000080; text-decoration-color: #000080; font-weight: bold\">-1</span>, <span style=\"color: #000080; text-decoration-color: #000080; font-weight: bold\">5</span>, <span style=\"color: #000080; text-decoration-color: #000080; font-weight: bold\">10</span>,                                     \n",
       "                    <span style=\"color: #000080; text-decoration-color: #000080; font-weight: bold\">25</span><span style=\"font-weight: bold\">]</span>, <span style=\"color: #008000; text-decoration-color: #008000\">'estimator__learning_rate'</span>: <span style=\"font-weight: bold\">[</span><span style=\"color: #000080; text-decoration-color: #000080; font-weight: bold\">0.01</span>,                                  \n",
       "                    <span style=\"color: #000080; text-decoration-color: #000080; font-weight: bold\">0.05</span>, <span style=\"color: #000080; text-decoration-color: #000080; font-weight: bold\">0.1</span>, <span style=\"color: #000080; text-decoration-color: #000080; font-weight: bold\">0.25</span><span style=\"font-weight: bold\">]</span>,                                                        \n",
       "                    <span style=\"color: #008000; text-decoration-color: #008000\">'estimator__num_leaves'</span>: <span style=\"font-weight: bold\">[</span><span style=\"color: #000080; text-decoration-color: #000080; font-weight: bold\">10</span>, <span style=\"color: #000080; text-decoration-color: #000080; font-weight: bold\">31</span>, <span style=\"color: #000080; text-decoration-color: #000080; font-weight: bold\">50</span><span style=\"font-weight: bold\">]</span>,                                   \n",
       "                    <span style=\"color: #008000; text-decoration-color: #008000\">'estimator__n_estimators'</span>: <span style=\"font-weight: bold\">[</span><span style=\"color: #000080; text-decoration-color: #000080; font-weight: bold\">10</span>, <span style=\"color: #000080; text-decoration-color: #000080; font-weight: bold\">100</span>,                                     \n",
       "                    <span style=\"color: #000080; text-decoration-color: #000080; font-weight: bold\">250</span><span style=\"font-weight: bold\">]</span>, <span style=\"color: #008000; text-decoration-color: #008000\">'estimator__boosting_type'</span>:                                        \n",
       "                    <span style=\"font-weight: bold\">[</span><span style=\"color: #008000; text-decoration-color: #008000\">'gbdt'</span>, <span style=\"color: #008000; text-decoration-color: #008000\">'dart'</span>, <span style=\"color: #008000; text-decoration-color: #008000\">'goss'</span><span style=\"font-weight: bold\">]</span>,                                                \n",
       "                    <span style=\"color: #008000; text-decoration-color: #008000\">'estimator__reg_alpha'</span>: <span style=\"font-weight: bold\">[</span><span style=\"color: #000080; text-decoration-color: #000080; font-weight: bold\">0</span>, <span style=\"color: #000080; text-decoration-color: #000080; font-weight: bold\">0.01</span>, <span style=\"color: #000080; text-decoration-color: #000080; font-weight: bold\">0.05</span>,                                  \n",
       "                    <span style=\"color: #000080; text-decoration-color: #000080; font-weight: bold\">0.1</span><span style=\"font-weight: bold\">]</span>, <span style=\"color: #008000; text-decoration-color: #008000\">'estimator__reg_lambda'</span>: <span style=\"font-weight: bold\">[</span><span style=\"color: #000080; text-decoration-color: #000080; font-weight: bold\">0</span>, <span style=\"color: #000080; text-decoration-color: #000080; font-weight: bold\">0.01</span>,                                 \n",
       "                    <span style=\"color: #000080; text-decoration-color: #000080; font-weight: bold\">0.05</span>, <span style=\"color: #000080; text-decoration-color: #000080; font-weight: bold\">0.1</span><span style=\"font-weight: bold\">]}}}</span>, <span style=\"color: #008000; text-decoration-color: #008000\">'simulator'</span>: <span style=\"font-weight: bold\">{</span><span style=\"color: #008000; text-decoration-color: #008000\">'states'</span>:                                   \n",
       "                    <span style=\"font-weight: bold\">[</span><span style=\"color: #008000; text-decoration-color: #008000\">'state_x_position'</span>, <span style=\"color: #008000; text-decoration-color: #008000\">'state_x_velocity'</span>,                                 \n",
       "                    <span style=\"color: #008000; text-decoration-color: #008000\">'state_angle_position'</span>,                                                  \n",
       "                    <span style=\"color: #008000; text-decoration-color: #008000\">'state_angle_velocity'</span><span style=\"font-weight: bold\">]</span>, <span style=\"color: #008000; text-decoration-color: #008000\">'actions'</span>:                                      \n",
       "                    <span style=\"font-weight: bold\">[</span><span style=\"color: #008000; text-decoration-color: #008000\">'action_command'</span><span style=\"font-weight: bold\">]</span>, <span style=\"color: #008000; text-decoration-color: #008000\">'configs'</span>:                                           \n",
       "                    <span style=\"font-weight: bold\">[</span><span style=\"color: #008000; text-decoration-color: #008000\">'config_length'</span>, <span style=\"color: #008000; text-decoration-color: #008000\">'config_masspole'</span><span style=\"font-weight: bold\">]</span>,                                    \n",
       "                    <span style=\"color: #008000; text-decoration-color: #008000\">'policy'</span>: <span style=\"color: #008000; text-decoration-color: #008000\">'bonsai'</span>, <span style=\"color: #008000; text-decoration-color: #008000\">'logging'</span>:                                           \n",
       "                    <span style=\"color: #008000; text-decoration-color: #008000\">'enable'</span><span style=\"font-weight: bold\">}}</span>                                                               \n",
       "</pre>\n"
      ],
      "text/plain": [
       "<rich.jupyter.JupyterRenderable at 0x7f8b38f2ba10>"
      ]
     },
     "metadata": {},
     "output_type": "display_data"
    },
    {
     "data": {
      "text/html": [
       "<pre style=\"white-space:pre;overflow-x:auto;line-height:normal;font-family:Menlo,'DejaVu Sans Mono',consolas,'Courier New',monospace\"><span style=\"color: #7fbfbf; text-decoration-color: #7fbfbf\">           </span><span style=\"color: #000080; text-decoration-color: #000080\">INFO    </span> Loading data from                       <a href=\"file://<ipython-input-9-945761283b65>\"><span style=\"color: #7f7f7f; text-decoration-color: #7f7f7f\">&lt;ipython-input-9-945761283b65&gt;</span></a><span style=\"color: #7f7f7f; text-decoration-color: #7f7f7f\">:10</span>\n",
       "                    csv_data/cartpole_at_st.csv                                              \n",
       "</pre>\n"
      ],
      "text/plain": [
       "<rich.jupyter.JupyterRenderable at 0x7f8b481f57d0>"
      ]
     },
     "metadata": {},
     "output_type": "display_data"
    },
    {
     "data": {
      "text/html": [
       "<pre style=\"white-space:pre;overflow-x:auto;line-height:normal;font-family:Menlo,'DejaVu Sans Mono',consolas,'Courier New',monospace\"><span style=\"color: #7fbfbf; text-decoration-color: #7fbfbf\">           </span><span style=\"color: #000080; text-decoration-color: #000080\">INFO    </span> Using <span style=\"font-weight: bold\">[</span><span style=\"color: #008000; text-decoration-color: #008000\">'state_x_position'</span>, <span style=\"color: #008000; text-decoration-color: #008000\">'state_x_velocity'</span>,           <a href=\"file:///Users/alizaidi-msft/Documents/bonsai/datadrivenmodel/dataclass.py\"><span style=\"color: #7f7f7f; text-decoration-color: #7f7f7f\">dataclass.py</span></a><span style=\"color: #7f7f7f; text-decoration-color: #7f7f7f\">:287</span>\n",
       "                    <span style=\"color: #008000; text-decoration-color: #008000\">'state_angle_position'</span>, <span style=\"color: #008000; text-decoration-color: #008000\">'state_angle_velocity'</span>,                          \n",
       "                    <span style=\"color: #008000; text-decoration-color: #008000\">'config_length'</span>, <span style=\"color: #008000; text-decoration-color: #008000\">'config_masspole'</span>, <span style=\"color: #008000; text-decoration-color: #008000\">'action_command'</span><span style=\"font-weight: bold\">]</span> as                 \n",
       "                    the features for modeling DDM                                            \n",
       "</pre>\n"
      ],
      "text/plain": [
       "<rich.jupyter.JupyterRenderable at 0x7f8b18cc1e10>"
      ]
     },
     "metadata": {},
     "output_type": "display_data"
    },
    {
     "data": {
      "text/html": [
       "<pre style=\"white-space:pre;overflow-x:auto;line-height:normal;font-family:Menlo,'DejaVu Sans Mono',consolas,'Courier New',monospace\"><span style=\"color: #7fbfbf; text-decoration-color: #7fbfbf\">           </span><span style=\"color: #000080; text-decoration-color: #000080\">INFO    </span> Using <span style=\"font-weight: bold\">[</span><span style=\"color: #008000; text-decoration-color: #008000\">'state_x_position'</span>, <span style=\"color: #008000; text-decoration-color: #008000\">'state_x_velocity'</span>,           <a href=\"file:///Users/alizaidi-msft/Documents/bonsai/datadrivenmodel/dataclass.py\"><span style=\"color: #7f7f7f; text-decoration-color: #7f7f7f\">dataclass.py</span></a><span style=\"color: #7f7f7f; text-decoration-color: #7f7f7f\">:298</span>\n",
       "                    <span style=\"color: #008000; text-decoration-color: #008000\">'state_angle_position'</span>, <span style=\"color: #008000; text-decoration-color: #008000\">'state_angle_velocity'</span><span style=\"font-weight: bold\">]</span> as the                   \n",
       "                    labels for modeling DDM                                                  \n",
       "</pre>\n"
      ],
      "text/plain": [
       "<rich.jupyter.JupyterRenderable at 0x7f8b38eb05d0>"
      ]
     },
     "metadata": {},
     "output_type": "display_data"
    },
    {
     "data": {
      "text/html": [
       "<pre style=\"white-space:pre;overflow-x:auto;line-height:normal;font-family:Menlo,'DejaVu Sans Mono',consolas,'Courier New',monospace\"><span style=\"color: #7fbfbf; text-decoration-color: #7fbfbf\">           </span><span style=\"color: #000080; text-decoration-color: #000080\">INFO    </span> Iteration order set to <span style=\"color: #000080; text-decoration-color: #000080; font-weight: bold\">1</span> so using outputs from next <span style=\"color: #000080; text-decoration-color: #000080; font-weight: bold\">1</span> row <a href=\"file:///Users/alizaidi-msft/Documents/bonsai/datadrivenmodel/dataclass.py\"><span style=\"color: #7f7f7f; text-decoration-color: #7f7f7f\">dataclass.py</span></a><span style=\"color: #7f7f7f; text-decoration-color: #7f7f7f\">:85</span>\n",
       "</pre>\n"
      ],
      "text/plain": [
       "<rich.jupyter.JupyterRenderable at 0x7f8b684efb50>"
      ]
     },
     "metadata": {},
     "output_type": "display_data"
    },
    {
     "data": {
      "text/html": [
       "<pre style=\"white-space:pre;overflow-x:auto;line-height:normal;font-family:Menlo,'DejaVu Sans Mono',consolas,'Courier New',monospace\"><span style=\"color: #7fbfbf; text-decoration-color: #7fbfbf\">           </span><span style=\"color: #000080; text-decoration-color: #000080\">INFO    </span> Next states are being added to same row with prefix next <a href=\"file:///Users/alizaidi-msft/Documents/bonsai/datadrivenmodel/dataclass.py\"><span style=\"color: #7f7f7f; text-decoration-color: #7f7f7f\">dataclass.py</span></a><span style=\"color: #7f7f7f; text-decoration-color: #7f7f7f\">:104</span>\n",
       "</pre>\n"
      ],
      "text/plain": [
       "<rich.jupyter.JupyterRenderable at 0x7f8b18cc1ed0>"
      ]
     },
     "metadata": {},
     "output_type": "display_data"
    },
    {
     "data": {
      "text/html": [
       "<pre style=\"white-space:pre;overflow-x:auto;line-height:normal;font-family:Menlo,'DejaVu Sans Mono',consolas,'Courier New',monospace\"><span style=\"color: #7fbfbf; text-decoration-color: #7fbfbf\">           </span><span style=\"color: #000080; text-decoration-color: #000080\">INFO    </span> Feature columns are: <span style=\"font-weight: bold\">[</span><span style=\"color: #008000; text-decoration-color: #008000\">'next_state_x_position'</span>,           <a href=\"file:///Users/alizaidi-msft/Documents/bonsai/datadrivenmodel/dataclass.py\"><span style=\"color: #7f7f7f; text-decoration-color: #7f7f7f\">dataclass.py</span></a><span style=\"color: #7f7f7f; text-decoration-color: #7f7f7f\">:108</span>\n",
       "                    <span style=\"color: #008000; text-decoration-color: #008000\">'next_state_x_velocity'</span>, <span style=\"color: #008000; text-decoration-color: #008000\">'next_state_angle_position'</span>,                    \n",
       "                    <span style=\"color: #008000; text-decoration-color: #008000\">'next_state_angle_velocity'</span>, <span style=\"color: #008000; text-decoration-color: #008000\">'next_config_length'</span>,                       \n",
       "                    <span style=\"color: #008000; text-decoration-color: #008000\">'next_config_masspole'</span>, <span style=\"color: #008000; text-decoration-color: #008000\">'next_action_command'</span><span style=\"font-weight: bold\">]</span>                           \n",
       "</pre>\n"
      ],
      "text/plain": [
       "<rich.jupyter.JupyterRenderable at 0x7f8b38ef8a10>"
      ]
     },
     "metadata": {},
     "output_type": "display_data"
    },
    {
     "data": {
      "text/html": [
       "<pre style=\"white-space:pre;overflow-x:auto;line-height:normal;font-family:Menlo,'DejaVu Sans Mono',consolas,'Courier New',monospace\"><span style=\"color: #7fbfbf; text-decoration-color: #7fbfbf\">           </span><span style=\"color: #000080; text-decoration-color: #000080\">INFO    </span> Label columns are: <span style=\"font-weight: bold\">[</span><span style=\"color: #008000; text-decoration-color: #008000\">'state_x_position'</span>,                  <a href=\"file:///Users/alizaidi-msft/Documents/bonsai/datadrivenmodel/dataclass.py\"><span style=\"color: #7f7f7f; text-decoration-color: #7f7f7f\">dataclass.py</span></a><span style=\"color: #7f7f7f; text-decoration-color: #7f7f7f\">:109</span>\n",
       "                    <span style=\"color: #008000; text-decoration-color: #008000\">'state_x_velocity'</span>, <span style=\"color: #008000; text-decoration-color: #008000\">'state_angle_position'</span>,                              \n",
       "                    <span style=\"color: #008000; text-decoration-color: #008000\">'state_angle_velocity'</span><span style=\"font-weight: bold\">]</span>                                                  \n",
       "</pre>\n"
      ],
      "text/plain": [
       "<rich.jupyter.JupyterRenderable at 0x7f8b38edc310>"
      ]
     },
     "metadata": {},
     "output_type": "display_data"
    },
    {
     "data": {
      "text/html": [
       "<pre style=\"white-space:pre;overflow-x:auto;line-height:normal;font-family:Menlo,'DejaVu Sans Mono',consolas,'Courier New',monospace\"><span style=\"color: #7fbfbf; text-decoration-color: #7fbfbf\">           </span><span style=\"color: #000080; text-decoration-color: #000080\">INFO    </span> trimmed dataframe across episodes. found <span style=\"font-weight: bold\">(</span><span style=\"color: #000080; text-decoration-color: #000080; font-weight: bold\">100</span><span style=\"font-weight: bold\">)</span> episodes. <a href=\"file:///Users/alizaidi-msft/Documents/bonsai/datadrivenmodel/dataclass.py\"><span style=\"color: #7f7f7f; text-decoration-color: #7f7f7f\">dataclass.py</span></a><span style=\"color: #7f7f7f; text-decoration-color: #7f7f7f\">:373</span>\n",
       "</pre>\n"
      ],
      "text/plain": [
       "<rich.jupyter.JupyterRenderable at 0x7f8b10815ed0>"
      ]
     },
     "metadata": {},
     "output_type": "display_data"
    },
    {
     "data": {
      "text/html": [
       "<pre style=\"white-space:pre;overflow-x:auto;line-height:normal;font-family:Menlo,'DejaVu Sans Mono',consolas,'Courier New',monospace\"><span style=\"color: #7fbfbf; text-decoration-color: #7fbfbf\">           </span><span style=\"color: #000080; text-decoration-color: #000080\">INFO    </span> concatenated inputs enabled, concatenating <span style=\"color: #000080; text-decoration-color: #000080; font-weight: bold\">4</span> steps.      <a href=\"file:///Users/alizaidi-msft/Documents/bonsai/datadrivenmodel/dataclass.py\"><span style=\"color: #7f7f7f; text-decoration-color: #7f7f7f\">dataclass.py</span></a><span style=\"color: #7f7f7f; text-decoration-color: #7f7f7f\">:746</span>\n",
       "                    zero_padding: <span style=\"color: #00ff00; text-decoration-color: #00ff00; font-style: italic\">True</span>. no rows have been lost.                              \n",
       "</pre>\n"
      ],
      "text/plain": [
       "<rich.jupyter.JupyterRenderable at 0x7f8b38f215d0>"
      ]
     },
     "metadata": {},
     "output_type": "display_data"
    },
    {
     "data": {
      "text/html": [
       "<pre style=\"white-space:pre;overflow-x:auto;line-height:normal;font-family:Menlo,'DejaVu Sans Mono',consolas,'Courier New',monospace\"><span style=\"color: #7fbfbf; text-decoration-color: #7fbfbf\">           </span><span style=\"color: #000080; text-decoration-color: #000080\">INFO    </span> concatenated inputs enabled, concatenating <span style=\"color: #000080; text-decoration-color: #000080; font-weight: bold\">4</span> steps.      <a href=\"file:///Users/alizaidi-msft/Documents/bonsai/datadrivenmodel/dataclass.py\"><span style=\"color: #7f7f7f; text-decoration-color: #7f7f7f\">dataclass.py</span></a><span style=\"color: #7f7f7f; text-decoration-color: #7f7f7f\">:746</span>\n",
       "                    zero_padding: <span style=\"color: #00ff00; text-decoration-color: #00ff00; font-style: italic\">True</span>. no rows have been lost.                              \n",
       "</pre>\n"
      ],
      "text/plain": [
       "<rich.jupyter.JupyterRenderable at 0x7f8b18bd8390>"
      ]
     },
     "metadata": {},
     "output_type": "display_data"
    },
    {
     "data": {
      "text/html": [
       "<pre style=\"white-space:pre;overflow-x:auto;line-height:normal;font-family:Menlo,'DejaVu Sans Mono',consolas,'Courier New',monospace\"><span style=\"color: #7fbfbf; text-decoration-color: #7fbfbf\">           </span><span style=\"color: #000080; text-decoration-color: #000080\">INFO    </span> concatenated inputs enabled, concatenating <span style=\"color: #000080; text-decoration-color: #000080; font-weight: bold\">4</span> steps.      <a href=\"file:///Users/alizaidi-msft/Documents/bonsai/datadrivenmodel/dataclass.py\"><span style=\"color: #7f7f7f; text-decoration-color: #7f7f7f\">dataclass.py</span></a><span style=\"color: #7f7f7f; text-decoration-color: #7f7f7f\">:746</span>\n",
       "                    zero_padding: <span style=\"color: #00ff00; text-decoration-color: #00ff00; font-style: italic\">True</span>. no rows have been lost.                              \n",
       "</pre>\n"
      ],
      "text/plain": [
       "<rich.jupyter.JupyterRenderable at 0x7f8b18cd7e10>"
      ]
     },
     "metadata": {},
     "output_type": "display_data"
    },
    {
     "data": {
      "text/html": [
       "<pre style=\"white-space:pre;overflow-x:auto;line-height:normal;font-family:Menlo,'DejaVu Sans Mono',consolas,'Courier New',monospace\"><span style=\"color: #7fbfbf; text-decoration-color: #7fbfbf\">           </span><span style=\"color: #000080; text-decoration-color: #000080\">INFO    </span> concatenated inputs enabled, concatenating <span style=\"color: #000080; text-decoration-color: #000080; font-weight: bold\">4</span> steps.      <a href=\"file:///Users/alizaidi-msft/Documents/bonsai/datadrivenmodel/dataclass.py\"><span style=\"color: #7f7f7f; text-decoration-color: #7f7f7f\">dataclass.py</span></a><span style=\"color: #7f7f7f; text-decoration-color: #7f7f7f\">:746</span>\n",
       "                    zero_padding: <span style=\"color: #00ff00; text-decoration-color: #00ff00; font-style: italic\">True</span>. no rows have been lost.                              \n",
       "</pre>\n"
      ],
      "text/plain": [
       "<rich.jupyter.JupyterRenderable at 0x7f8b38f26cd0>"
      ]
     },
     "metadata": {},
     "output_type": "display_data"
    },
    {
     "data": {
      "text/html": [
       "<pre style=\"white-space:pre;overflow-x:auto;line-height:normal;font-family:Menlo,'DejaVu Sans Mono',consolas,'Courier New',monospace\"><span style=\"color: #7fbfbf; text-decoration-color: #7fbfbf\">           </span><span style=\"color: #000080; text-decoration-color: #000080\">INFO    </span> concatenated inputs enabled, concatenating <span style=\"color: #000080; text-decoration-color: #000080; font-weight: bold\">4</span> steps.      <a href=\"file:///Users/alizaidi-msft/Documents/bonsai/datadrivenmodel/dataclass.py\"><span style=\"color: #7f7f7f; text-decoration-color: #7f7f7f\">dataclass.py</span></a><span style=\"color: #7f7f7f; text-decoration-color: #7f7f7f\">:746</span>\n",
       "                    zero_padding: <span style=\"color: #00ff00; text-decoration-color: #00ff00; font-style: italic\">True</span>. no rows have been lost.                              \n",
       "</pre>\n"
      ],
      "text/plain": [
       "<rich.jupyter.JupyterRenderable at 0x7f8b6903a190>"
      ]
     },
     "metadata": {},
     "output_type": "display_data"
    },
    {
     "data": {
      "text/html": [
       "<pre style=\"white-space:pre;overflow-x:auto;line-height:normal;font-family:Menlo,'DejaVu Sans Mono',consolas,'Courier New',monospace\"><span style=\"color: #7fbfbf; text-decoration-color: #7fbfbf\">           </span><span style=\"color: #000080; text-decoration-color: #000080\">INFO    </span> concatenated inputs enabled, concatenating <span style=\"color: #000080; text-decoration-color: #000080; font-weight: bold\">4</span> steps.      <a href=\"file:///Users/alizaidi-msft/Documents/bonsai/datadrivenmodel/dataclass.py\"><span style=\"color: #7f7f7f; text-decoration-color: #7f7f7f\">dataclass.py</span></a><span style=\"color: #7f7f7f; text-decoration-color: #7f7f7f\">:746</span>\n",
       "                    zero_padding: <span style=\"color: #00ff00; text-decoration-color: #00ff00; font-style: italic\">True</span>. no rows have been lost.                              \n",
       "</pre>\n"
      ],
      "text/plain": [
       "<rich.jupyter.JupyterRenderable at 0x7f8b6903a190>"
      ]
     },
     "metadata": {},
     "output_type": "display_data"
    },
    {
     "data": {
      "text/html": [
       "<pre style=\"white-space:pre;overflow-x:auto;line-height:normal;font-family:Menlo,'DejaVu Sans Mono',consolas,'Courier New',monospace\"><span style=\"color: #7fbfbf; text-decoration-color: #7fbfbf\">           </span><span style=\"color: #000080; text-decoration-color: #000080\">INFO    </span> concatenated inputs enabled, concatenating <span style=\"color: #000080; text-decoration-color: #000080; font-weight: bold\">4</span> steps.      <a href=\"file:///Users/alizaidi-msft/Documents/bonsai/datadrivenmodel/dataclass.py\"><span style=\"color: #7f7f7f; text-decoration-color: #7f7f7f\">dataclass.py</span></a><span style=\"color: #7f7f7f; text-decoration-color: #7f7f7f\">:746</span>\n",
       "                    zero_padding: <span style=\"color: #00ff00; text-decoration-color: #00ff00; font-style: italic\">True</span>. no rows have been lost.                              \n",
       "</pre>\n"
      ],
      "text/plain": [
       "<rich.jupyter.JupyterRenderable at 0x7f8b18cd7e10>"
      ]
     },
     "metadata": {},
     "output_type": "display_data"
    },
    {
     "data": {
      "text/html": [
       "<pre style=\"white-space:pre;overflow-x:auto;line-height:normal;font-family:Menlo,'DejaVu Sans Mono',consolas,'Courier New',monospace\"><span style=\"color: #7fbfbf; text-decoration-color: #7fbfbf\">           </span><span style=\"color: #000080; text-decoration-color: #000080\">INFO    </span> concatenated inputs enabled, concatenating <span style=\"color: #000080; text-decoration-color: #000080; font-weight: bold\">4</span> steps.      <a href=\"file:///Users/alizaidi-msft/Documents/bonsai/datadrivenmodel/dataclass.py\"><span style=\"color: #7f7f7f; text-decoration-color: #7f7f7f\">dataclass.py</span></a><span style=\"color: #7f7f7f; text-decoration-color: #7f7f7f\">:746</span>\n",
       "                    zero_padding: <span style=\"color: #00ff00; text-decoration-color: #00ff00; font-style: italic\">True</span>. no rows have been lost.                              \n",
       "</pre>\n"
      ],
      "text/plain": [
       "<rich.jupyter.JupyterRenderable at 0x7f8b38f13b50>"
      ]
     },
     "metadata": {},
     "output_type": "display_data"
    },
    {
     "data": {
      "text/html": [
       "<pre style=\"white-space:pre;overflow-x:auto;line-height:normal;font-family:Menlo,'DejaVu Sans Mono',consolas,'Courier New',monospace\"><span style=\"color: #7fbfbf; text-decoration-color: #7fbfbf\">           </span><span style=\"color: #000080; text-decoration-color: #000080\">INFO    </span> concatenated inputs enabled, concatenating <span style=\"color: #000080; text-decoration-color: #000080; font-weight: bold\">4</span> steps.      <a href=\"file:///Users/alizaidi-msft/Documents/bonsai/datadrivenmodel/dataclass.py\"><span style=\"color: #7f7f7f; text-decoration-color: #7f7f7f\">dataclass.py</span></a><span style=\"color: #7f7f7f; text-decoration-color: #7f7f7f\">:746</span>\n",
       "                    zero_padding: <span style=\"color: #00ff00; text-decoration-color: #00ff00; font-style: italic\">True</span>. no rows have been lost.                              \n",
       "</pre>\n"
      ],
      "text/plain": [
       "<rich.jupyter.JupyterRenderable at 0x7f8b38f19610>"
      ]
     },
     "metadata": {},
     "output_type": "display_data"
    },
    {
     "data": {
      "text/html": [
       "<pre style=\"white-space:pre;overflow-x:auto;line-height:normal;font-family:Menlo,'DejaVu Sans Mono',consolas,'Courier New',monospace\"><span style=\"color: #7fbfbf; text-decoration-color: #7fbfbf\">           </span><span style=\"color: #000080; text-decoration-color: #000080\">INFO    </span> concatenated inputs enabled, concatenating <span style=\"color: #000080; text-decoration-color: #000080; font-weight: bold\">4</span> steps.      <a href=\"file:///Users/alizaidi-msft/Documents/bonsai/datadrivenmodel/dataclass.py\"><span style=\"color: #7f7f7f; text-decoration-color: #7f7f7f\">dataclass.py</span></a><span style=\"color: #7f7f7f; text-decoration-color: #7f7f7f\">:746</span>\n",
       "                    zero_padding: <span style=\"color: #00ff00; text-decoration-color: #00ff00; font-style: italic\">True</span>. no rows have been lost.                              \n",
       "</pre>\n"
      ],
      "text/plain": [
       "<rich.jupyter.JupyterRenderable at 0x7f8b38ef8b90>"
      ]
     },
     "metadata": {},
     "output_type": "display_data"
    },
    {
     "data": {
      "text/html": [
       "<pre style=\"white-space:pre;overflow-x:auto;line-height:normal;font-family:Menlo,'DejaVu Sans Mono',consolas,'Courier New',monospace\"><span style=\"color: #7fbfbf; text-decoration-color: #7fbfbf\">           </span><span style=\"color: #000080; text-decoration-color: #000080\">INFO    </span> concatenated inputs enabled, concatenating <span style=\"color: #000080; text-decoration-color: #000080; font-weight: bold\">4</span> steps.      <a href=\"file:///Users/alizaidi-msft/Documents/bonsai/datadrivenmodel/dataclass.py\"><span style=\"color: #7f7f7f; text-decoration-color: #7f7f7f\">dataclass.py</span></a><span style=\"color: #7f7f7f; text-decoration-color: #7f7f7f\">:746</span>\n",
       "                    zero_padding: <span style=\"color: #00ff00; text-decoration-color: #00ff00; font-style: italic\">True</span>. no rows have been lost.                              \n",
       "</pre>\n"
      ],
      "text/plain": [
       "<rich.jupyter.JupyterRenderable at 0x7f8b38ef8b90>"
      ]
     },
     "metadata": {},
     "output_type": "display_data"
    },
    {
     "data": {
      "text/html": [
       "<pre style=\"white-space:pre;overflow-x:auto;line-height:normal;font-family:Menlo,'DejaVu Sans Mono',consolas,'Courier New',monospace\"><span style=\"color: #7fbfbf; text-decoration-color: #7fbfbf\">           </span><span style=\"color: #000080; text-decoration-color: #000080\">INFO    </span> concatenated inputs enabled, concatenating <span style=\"color: #000080; text-decoration-color: #000080; font-weight: bold\">4</span> steps.      <a href=\"file:///Users/alizaidi-msft/Documents/bonsai/datadrivenmodel/dataclass.py\"><span style=\"color: #7f7f7f; text-decoration-color: #7f7f7f\">dataclass.py</span></a><span style=\"color: #7f7f7f; text-decoration-color: #7f7f7f\">:746</span>\n",
       "                    zero_padding: <span style=\"color: #00ff00; text-decoration-color: #00ff00; font-style: italic\">True</span>. no rows have been lost.                              \n",
       "</pre>\n"
      ],
      "text/plain": [
       "<rich.jupyter.JupyterRenderable at 0x7f8b18cc3fd0>"
      ]
     },
     "metadata": {},
     "output_type": "display_data"
    },
    {
     "data": {
      "text/html": [
       "<pre style=\"white-space:pre;overflow-x:auto;line-height:normal;font-family:Menlo,'DejaVu Sans Mono',consolas,'Courier New',monospace\"><span style=\"color: #7fbfbf; text-decoration-color: #7fbfbf\">           </span><span style=\"color: #000080; text-decoration-color: #000080\">INFO    </span> concatenated inputs enabled, concatenating <span style=\"color: #000080; text-decoration-color: #000080; font-weight: bold\">4</span> steps.      <a href=\"file:///Users/alizaidi-msft/Documents/bonsai/datadrivenmodel/dataclass.py\"><span style=\"color: #7f7f7f; text-decoration-color: #7f7f7f\">dataclass.py</span></a><span style=\"color: #7f7f7f; text-decoration-color: #7f7f7f\">:746</span>\n",
       "                    zero_padding: <span style=\"color: #00ff00; text-decoration-color: #00ff00; font-style: italic\">True</span>. no rows have been lost.                              \n",
       "</pre>\n"
      ],
      "text/plain": [
       "<rich.jupyter.JupyterRenderable at 0x7f8b18cc6690>"
      ]
     },
     "metadata": {},
     "output_type": "display_data"
    },
    {
     "data": {
      "text/html": [
       "<pre style=\"white-space:pre;overflow-x:auto;line-height:normal;font-family:Menlo,'DejaVu Sans Mono',consolas,'Courier New',monospace\"><span style=\"color: #7fbfbf; text-decoration-color: #7fbfbf\">           </span><span style=\"color: #000080; text-decoration-color: #000080\">INFO    </span> concatenated inputs enabled, concatenating <span style=\"color: #000080; text-decoration-color: #000080; font-weight: bold\">4</span> steps.      <a href=\"file:///Users/alizaidi-msft/Documents/bonsai/datadrivenmodel/dataclass.py\"><span style=\"color: #7f7f7f; text-decoration-color: #7f7f7f\">dataclass.py</span></a><span style=\"color: #7f7f7f; text-decoration-color: #7f7f7f\">:746</span>\n",
       "                    zero_padding: <span style=\"color: #00ff00; text-decoration-color: #00ff00; font-style: italic\">True</span>. no rows have been lost.                              \n",
       "</pre>\n"
      ],
      "text/plain": [
       "<rich.jupyter.JupyterRenderable at 0x7f8b18cc3250>"
      ]
     },
     "metadata": {},
     "output_type": "display_data"
    },
    {
     "data": {
      "text/html": [
       "<pre style=\"white-space:pre;overflow-x:auto;line-height:normal;font-family:Menlo,'DejaVu Sans Mono',consolas,'Courier New',monospace\"><span style=\"color: #7fbfbf; text-decoration-color: #7fbfbf\">           </span><span style=\"color: #000080; text-decoration-color: #000080\">INFO    </span> concatenated inputs enabled, concatenating <span style=\"color: #000080; text-decoration-color: #000080; font-weight: bold\">4</span> steps.      <a href=\"file:///Users/alizaidi-msft/Documents/bonsai/datadrivenmodel/dataclass.py\"><span style=\"color: #7f7f7f; text-decoration-color: #7f7f7f\">dataclass.py</span></a><span style=\"color: #7f7f7f; text-decoration-color: #7f7f7f\">:746</span>\n",
       "                    zero_padding: <span style=\"color: #00ff00; text-decoration-color: #00ff00; font-style: italic\">True</span>. no rows have been lost.                              \n",
       "</pre>\n"
      ],
      "text/plain": [
       "<rich.jupyter.JupyterRenderable at 0x7f8b38ef6a50>"
      ]
     },
     "metadata": {},
     "output_type": "display_data"
    },
    {
     "data": {
      "text/html": [
       "<pre style=\"white-space:pre;overflow-x:auto;line-height:normal;font-family:Menlo,'DejaVu Sans Mono',consolas,'Courier New',monospace\"><span style=\"color: #7fbfbf; text-decoration-color: #7fbfbf\">           </span><span style=\"color: #000080; text-decoration-color: #000080\">INFO    </span> concatenated inputs enabled, concatenating <span style=\"color: #000080; text-decoration-color: #000080; font-weight: bold\">4</span> steps.      <a href=\"file:///Users/alizaidi-msft/Documents/bonsai/datadrivenmodel/dataclass.py\"><span style=\"color: #7f7f7f; text-decoration-color: #7f7f7f\">dataclass.py</span></a><span style=\"color: #7f7f7f; text-decoration-color: #7f7f7f\">:746</span>\n",
       "                    zero_padding: <span style=\"color: #00ff00; text-decoration-color: #00ff00; font-style: italic\">True</span>. no rows have been lost.                              \n",
       "</pre>\n"
      ],
      "text/plain": [
       "<rich.jupyter.JupyterRenderable at 0x7f8b38ef6790>"
      ]
     },
     "metadata": {},
     "output_type": "display_data"
    },
    {
     "data": {
      "text/html": [
       "<pre style=\"white-space:pre;overflow-x:auto;line-height:normal;font-family:Menlo,'DejaVu Sans Mono',consolas,'Courier New',monospace\"><span style=\"color: #7fbfbf; text-decoration-color: #7fbfbf\">           </span><span style=\"color: #000080; text-decoration-color: #000080\">INFO    </span> concatenated inputs enabled, concatenating <span style=\"color: #000080; text-decoration-color: #000080; font-weight: bold\">4</span> steps.      <a href=\"file:///Users/alizaidi-msft/Documents/bonsai/datadrivenmodel/dataclass.py\"><span style=\"color: #7f7f7f; text-decoration-color: #7f7f7f\">dataclass.py</span></a><span style=\"color: #7f7f7f; text-decoration-color: #7f7f7f\">:746</span>\n",
       "                    zero_padding: <span style=\"color: #00ff00; text-decoration-color: #00ff00; font-style: italic\">True</span>. no rows have been lost.                              \n",
       "</pre>\n"
      ],
      "text/plain": [
       "<rich.jupyter.JupyterRenderable at 0x7f8b28da1b50>"
      ]
     },
     "metadata": {},
     "output_type": "display_data"
    },
    {
     "data": {
      "text/html": [
       "<pre style=\"white-space:pre;overflow-x:auto;line-height:normal;font-family:Menlo,'DejaVu Sans Mono',consolas,'Courier New',monospace\"><span style=\"color: #7fbfbf; text-decoration-color: #7fbfbf\">           </span><span style=\"color: #000080; text-decoration-color: #000080\">INFO    </span> concatenated inputs enabled, concatenating <span style=\"color: #000080; text-decoration-color: #000080; font-weight: bold\">4</span> steps.      <a href=\"file:///Users/alizaidi-msft/Documents/bonsai/datadrivenmodel/dataclass.py\"><span style=\"color: #7f7f7f; text-decoration-color: #7f7f7f\">dataclass.py</span></a><span style=\"color: #7f7f7f; text-decoration-color: #7f7f7f\">:746</span>\n",
       "                    zero_padding: <span style=\"color: #00ff00; text-decoration-color: #00ff00; font-style: italic\">True</span>. no rows have been lost.                              \n",
       "</pre>\n"
      ],
      "text/plain": [
       "<rich.jupyter.JupyterRenderable at 0x7f8b28da1bd0>"
      ]
     },
     "metadata": {},
     "output_type": "display_data"
    },
    {
     "data": {
      "text/html": [
       "<pre style=\"white-space:pre;overflow-x:auto;line-height:normal;font-family:Menlo,'DejaVu Sans Mono',consolas,'Courier New',monospace\"><span style=\"color: #7fbfbf; text-decoration-color: #7fbfbf\">           </span><span style=\"color: #000080; text-decoration-color: #000080\">INFO    </span> concatenated inputs enabled, concatenating <span style=\"color: #000080; text-decoration-color: #000080; font-weight: bold\">4</span> steps.      <a href=\"file:///Users/alizaidi-msft/Documents/bonsai/datadrivenmodel/dataclass.py\"><span style=\"color: #7f7f7f; text-decoration-color: #7f7f7f\">dataclass.py</span></a><span style=\"color: #7f7f7f; text-decoration-color: #7f7f7f\">:746</span>\n",
       "                    zero_padding: <span style=\"color: #00ff00; text-decoration-color: #00ff00; font-style: italic\">True</span>. no rows have been lost.                              \n",
       "</pre>\n"
      ],
      "text/plain": [
       "<rich.jupyter.JupyterRenderable at 0x7f8b28da1590>"
      ]
     },
     "metadata": {},
     "output_type": "display_data"
    },
    {
     "data": {
      "text/html": [
       "<pre style=\"white-space:pre;overflow-x:auto;line-height:normal;font-family:Menlo,'DejaVu Sans Mono',consolas,'Courier New',monospace\"><span style=\"color: #7fbfbf; text-decoration-color: #7fbfbf\">           </span><span style=\"color: #000080; text-decoration-color: #000080\">INFO    </span> concatenated inputs enabled, concatenating <span style=\"color: #000080; text-decoration-color: #000080; font-weight: bold\">4</span> steps.      <a href=\"file:///Users/alizaidi-msft/Documents/bonsai/datadrivenmodel/dataclass.py\"><span style=\"color: #7f7f7f; text-decoration-color: #7f7f7f\">dataclass.py</span></a><span style=\"color: #7f7f7f; text-decoration-color: #7f7f7f\">:746</span>\n",
       "                    zero_padding: <span style=\"color: #00ff00; text-decoration-color: #00ff00; font-style: italic\">True</span>. no rows have been lost.                              \n",
       "</pre>\n"
      ],
      "text/plain": [
       "<rich.jupyter.JupyterRenderable at 0x7f8b28da1910>"
      ]
     },
     "metadata": {},
     "output_type": "display_data"
    },
    {
     "data": {
      "text/html": [
       "<pre style=\"white-space:pre;overflow-x:auto;line-height:normal;font-family:Menlo,'DejaVu Sans Mono',consolas,'Courier New',monospace\"><span style=\"color: #7fbfbf; text-decoration-color: #7fbfbf\">           </span><span style=\"color: #000080; text-decoration-color: #000080\">INFO    </span> concatenated inputs enabled, concatenating <span style=\"color: #000080; text-decoration-color: #000080; font-weight: bold\">4</span> steps.      <a href=\"file:///Users/alizaidi-msft/Documents/bonsai/datadrivenmodel/dataclass.py\"><span style=\"color: #7f7f7f; text-decoration-color: #7f7f7f\">dataclass.py</span></a><span style=\"color: #7f7f7f; text-decoration-color: #7f7f7f\">:746</span>\n",
       "                    zero_padding: <span style=\"color: #00ff00; text-decoration-color: #00ff00; font-style: italic\">True</span>. no rows have been lost.                              \n",
       "</pre>\n"
      ],
      "text/plain": [
       "<rich.jupyter.JupyterRenderable at 0x7f8b69125210>"
      ]
     },
     "metadata": {},
     "output_type": "display_data"
    },
    {
     "data": {
      "text/html": [
       "<pre style=\"white-space:pre;overflow-x:auto;line-height:normal;font-family:Menlo,'DejaVu Sans Mono',consolas,'Courier New',monospace\"><span style=\"color: #7fbfbf; text-decoration-color: #7fbfbf\">           </span><span style=\"color: #000080; text-decoration-color: #000080\">INFO    </span> concatenated inputs enabled, concatenating <span style=\"color: #000080; text-decoration-color: #000080; font-weight: bold\">4</span> steps.      <a href=\"file:///Users/alizaidi-msft/Documents/bonsai/datadrivenmodel/dataclass.py\"><span style=\"color: #7f7f7f; text-decoration-color: #7f7f7f\">dataclass.py</span></a><span style=\"color: #7f7f7f; text-decoration-color: #7f7f7f\">:746</span>\n",
       "                    zero_padding: <span style=\"color: #00ff00; text-decoration-color: #00ff00; font-style: italic\">True</span>. no rows have been lost.                              \n",
       "</pre>\n"
      ],
      "text/plain": [
       "<rich.jupyter.JupyterRenderable at 0x7f8b69125cd0>"
      ]
     },
     "metadata": {},
     "output_type": "display_data"
    },
    {
     "data": {
      "text/html": [
       "<pre style=\"white-space:pre;overflow-x:auto;line-height:normal;font-family:Menlo,'DejaVu Sans Mono',consolas,'Courier New',monospace\"><span style=\"color: #7fbfbf; text-decoration-color: #7fbfbf\">           </span><span style=\"color: #000080; text-decoration-color: #000080\">INFO    </span> concatenated inputs enabled, concatenating <span style=\"color: #000080; text-decoration-color: #000080; font-weight: bold\">4</span> steps.      <a href=\"file:///Users/alizaidi-msft/Documents/bonsai/datadrivenmodel/dataclass.py\"><span style=\"color: #7f7f7f; text-decoration-color: #7f7f7f\">dataclass.py</span></a><span style=\"color: #7f7f7f; text-decoration-color: #7f7f7f\">:746</span>\n",
       "                    zero_padding: <span style=\"color: #00ff00; text-decoration-color: #00ff00; font-style: italic\">True</span>. no rows have been lost.                              \n",
       "</pre>\n"
      ],
      "text/plain": [
       "<rich.jupyter.JupyterRenderable at 0x7f8b69125350>"
      ]
     },
     "metadata": {},
     "output_type": "display_data"
    },
    {
     "data": {
      "text/html": [
       "<pre style=\"white-space:pre;overflow-x:auto;line-height:normal;font-family:Menlo,'DejaVu Sans Mono',consolas,'Courier New',monospace\"><span style=\"color: #7fbfbf; text-decoration-color: #7fbfbf\">           </span><span style=\"color: #000080; text-decoration-color: #000080\">INFO    </span> concatenated inputs enabled, concatenating <span style=\"color: #000080; text-decoration-color: #000080; font-weight: bold\">4</span> steps.      <a href=\"file:///Users/alizaidi-msft/Documents/bonsai/datadrivenmodel/dataclass.py\"><span style=\"color: #7f7f7f; text-decoration-color: #7f7f7f\">dataclass.py</span></a><span style=\"color: #7f7f7f; text-decoration-color: #7f7f7f\">:746</span>\n",
       "                    zero_padding: <span style=\"color: #00ff00; text-decoration-color: #00ff00; font-style: italic\">True</span>. no rows have been lost.                              \n",
       "</pre>\n"
      ],
      "text/plain": [
       "<rich.jupyter.JupyterRenderable at 0x7f8b69125a50>"
      ]
     },
     "metadata": {},
     "output_type": "display_data"
    },
    {
     "data": {
      "text/html": [
       "<pre style=\"white-space:pre;overflow-x:auto;line-height:normal;font-family:Menlo,'DejaVu Sans Mono',consolas,'Courier New',monospace\"><span style=\"color: #7fbfbf; text-decoration-color: #7fbfbf\">           </span><span style=\"color: #000080; text-decoration-color: #000080\">INFO    </span> concatenated inputs enabled, concatenating <span style=\"color: #000080; text-decoration-color: #000080; font-weight: bold\">4</span> steps.      <a href=\"file:///Users/alizaidi-msft/Documents/bonsai/datadrivenmodel/dataclass.py\"><span style=\"color: #7f7f7f; text-decoration-color: #7f7f7f\">dataclass.py</span></a><span style=\"color: #7f7f7f; text-decoration-color: #7f7f7f\">:746</span>\n",
       "                    zero_padding: <span style=\"color: #00ff00; text-decoration-color: #00ff00; font-style: italic\">True</span>. no rows have been lost.                              \n",
       "</pre>\n"
      ],
      "text/plain": [
       "<rich.jupyter.JupyterRenderable at 0x7f8b69125950>"
      ]
     },
     "metadata": {},
     "output_type": "display_data"
    },
    {
     "data": {
      "text/html": [
       "<pre style=\"white-space:pre;overflow-x:auto;line-height:normal;font-family:Menlo,'DejaVu Sans Mono',consolas,'Courier New',monospace\"><span style=\"color: #7fbfbf; text-decoration-color: #7fbfbf\">           </span><span style=\"color: #000080; text-decoration-color: #000080\">INFO    </span> concatenated inputs enabled, concatenating <span style=\"color: #000080; text-decoration-color: #000080; font-weight: bold\">4</span> steps.      <a href=\"file:///Users/alizaidi-msft/Documents/bonsai/datadrivenmodel/dataclass.py\"><span style=\"color: #7f7f7f; text-decoration-color: #7f7f7f\">dataclass.py</span></a><span style=\"color: #7f7f7f; text-decoration-color: #7f7f7f\">:746</span>\n",
       "                    zero_padding: <span style=\"color: #00ff00; text-decoration-color: #00ff00; font-style: italic\">True</span>. no rows have been lost.                              \n",
       "</pre>\n"
      ],
      "text/plain": [
       "<rich.jupyter.JupyterRenderable at 0x7f8b69125c10>"
      ]
     },
     "metadata": {},
     "output_type": "display_data"
    },
    {
     "data": {
      "text/html": [
       "<pre style=\"white-space:pre;overflow-x:auto;line-height:normal;font-family:Menlo,'DejaVu Sans Mono',consolas,'Courier New',monospace\"><span style=\"color: #7fbfbf; text-decoration-color: #7fbfbf\">           </span><span style=\"color: #000080; text-decoration-color: #000080\">INFO    </span> concatenated inputs enabled, concatenating <span style=\"color: #000080; text-decoration-color: #000080; font-weight: bold\">4</span> steps.      <a href=\"file:///Users/alizaidi-msft/Documents/bonsai/datadrivenmodel/dataclass.py\"><span style=\"color: #7f7f7f; text-decoration-color: #7f7f7f\">dataclass.py</span></a><span style=\"color: #7f7f7f; text-decoration-color: #7f7f7f\">:746</span>\n",
       "                    zero_padding: <span style=\"color: #00ff00; text-decoration-color: #00ff00; font-style: italic\">True</span>. no rows have been lost.                              \n",
       "</pre>\n"
      ],
      "text/plain": [
       "<rich.jupyter.JupyterRenderable at 0x7f8b69143190>"
      ]
     },
     "metadata": {},
     "output_type": "display_data"
    },
    {
     "data": {
      "text/html": [
       "<pre style=\"white-space:pre;overflow-x:auto;line-height:normal;font-family:Menlo,'DejaVu Sans Mono',consolas,'Courier New',monospace\"><span style=\"color: #7fbfbf; text-decoration-color: #7fbfbf\">           </span><span style=\"color: #000080; text-decoration-color: #000080\">INFO    </span> concatenated inputs enabled, concatenating <span style=\"color: #000080; text-decoration-color: #000080; font-weight: bold\">4</span> steps.      <a href=\"file:///Users/alizaidi-msft/Documents/bonsai/datadrivenmodel/dataclass.py\"><span style=\"color: #7f7f7f; text-decoration-color: #7f7f7f\">dataclass.py</span></a><span style=\"color: #7f7f7f; text-decoration-color: #7f7f7f\">:746</span>\n",
       "                    zero_padding: <span style=\"color: #00ff00; text-decoration-color: #00ff00; font-style: italic\">True</span>. no rows have been lost.                              \n",
       "</pre>\n"
      ],
      "text/plain": [
       "<rich.jupyter.JupyterRenderable at 0x7f8b69143d50>"
      ]
     },
     "metadata": {},
     "output_type": "display_data"
    },
    {
     "data": {
      "text/html": [
       "<pre style=\"white-space:pre;overflow-x:auto;line-height:normal;font-family:Menlo,'DejaVu Sans Mono',consolas,'Courier New',monospace\"><span style=\"color: #7fbfbf; text-decoration-color: #7fbfbf\">           </span><span style=\"color: #000080; text-decoration-color: #000080\">INFO    </span> concatenated inputs enabled, concatenating <span style=\"color: #000080; text-decoration-color: #000080; font-weight: bold\">4</span> steps.      <a href=\"file:///Users/alizaidi-msft/Documents/bonsai/datadrivenmodel/dataclass.py\"><span style=\"color: #7f7f7f; text-decoration-color: #7f7f7f\">dataclass.py</span></a><span style=\"color: #7f7f7f; text-decoration-color: #7f7f7f\">:746</span>\n",
       "                    zero_padding: <span style=\"color: #00ff00; text-decoration-color: #00ff00; font-style: italic\">True</span>. no rows have been lost.                              \n",
       "</pre>\n"
      ],
      "text/plain": [
       "<rich.jupyter.JupyterRenderable at 0x7f8b691433d0>"
      ]
     },
     "metadata": {},
     "output_type": "display_data"
    },
    {
     "data": {
      "text/html": [
       "<pre style=\"white-space:pre;overflow-x:auto;line-height:normal;font-family:Menlo,'DejaVu Sans Mono',consolas,'Courier New',monospace\"><span style=\"color: #7fbfbf; text-decoration-color: #7fbfbf\">           </span><span style=\"color: #000080; text-decoration-color: #000080\">INFO    </span> concatenated inputs enabled, concatenating <span style=\"color: #000080; text-decoration-color: #000080; font-weight: bold\">4</span> steps.      <a href=\"file:///Users/alizaidi-msft/Documents/bonsai/datadrivenmodel/dataclass.py\"><span style=\"color: #7f7f7f; text-decoration-color: #7f7f7f\">dataclass.py</span></a><span style=\"color: #7f7f7f; text-decoration-color: #7f7f7f\">:746</span>\n",
       "                    zero_padding: <span style=\"color: #00ff00; text-decoration-color: #00ff00; font-style: italic\">True</span>. no rows have been lost.                              \n",
       "</pre>\n"
      ],
      "text/plain": [
       "<rich.jupyter.JupyterRenderable at 0x7f8b69143cd0>"
      ]
     },
     "metadata": {},
     "output_type": "display_data"
    },
    {
     "data": {
      "text/html": [
       "<pre style=\"white-space:pre;overflow-x:auto;line-height:normal;font-family:Menlo,'DejaVu Sans Mono',consolas,'Courier New',monospace\"><span style=\"color: #7fbfbf; text-decoration-color: #7fbfbf\">           </span><span style=\"color: #000080; text-decoration-color: #000080\">INFO    </span> concatenated inputs enabled, concatenating <span style=\"color: #000080; text-decoration-color: #000080; font-weight: bold\">4</span> steps.      <a href=\"file:///Users/alizaidi-msft/Documents/bonsai/datadrivenmodel/dataclass.py\"><span style=\"color: #7f7f7f; text-decoration-color: #7f7f7f\">dataclass.py</span></a><span style=\"color: #7f7f7f; text-decoration-color: #7f7f7f\">:746</span>\n",
       "                    zero_padding: <span style=\"color: #00ff00; text-decoration-color: #00ff00; font-style: italic\">True</span>. no rows have been lost.                              \n",
       "</pre>\n"
      ],
      "text/plain": [
       "<rich.jupyter.JupyterRenderable at 0x7f8b69143950>"
      ]
     },
     "metadata": {},
     "output_type": "display_data"
    },
    {
     "data": {
      "text/html": [
       "<pre style=\"white-space:pre;overflow-x:auto;line-height:normal;font-family:Menlo,'DejaVu Sans Mono',consolas,'Courier New',monospace\"><span style=\"color: #7fbfbf; text-decoration-color: #7fbfbf\">           </span><span style=\"color: #000080; text-decoration-color: #000080\">INFO    </span> concatenated inputs enabled, concatenating <span style=\"color: #000080; text-decoration-color: #000080; font-weight: bold\">4</span> steps.      <a href=\"file:///Users/alizaidi-msft/Documents/bonsai/datadrivenmodel/dataclass.py\"><span style=\"color: #7f7f7f; text-decoration-color: #7f7f7f\">dataclass.py</span></a><span style=\"color: #7f7f7f; text-decoration-color: #7f7f7f\">:746</span>\n",
       "                    zero_padding: <span style=\"color: #00ff00; text-decoration-color: #00ff00; font-style: italic\">True</span>. no rows have been lost.                              \n",
       "</pre>\n"
      ],
      "text/plain": [
       "<rich.jupyter.JupyterRenderable at 0x7f8b69125890>"
      ]
     },
     "metadata": {},
     "output_type": "display_data"
    },
    {
     "data": {
      "text/html": [
       "<pre style=\"white-space:pre;overflow-x:auto;line-height:normal;font-family:Menlo,'DejaVu Sans Mono',consolas,'Courier New',monospace\"><span style=\"color: #7fbfbf; text-decoration-color: #7fbfbf\">           </span><span style=\"color: #000080; text-decoration-color: #000080\">INFO    </span> concatenated inputs enabled, concatenating <span style=\"color: #000080; text-decoration-color: #000080; font-weight: bold\">4</span> steps.      <a href=\"file:///Users/alizaidi-msft/Documents/bonsai/datadrivenmodel/dataclass.py\"><span style=\"color: #7f7f7f; text-decoration-color: #7f7f7f\">dataclass.py</span></a><span style=\"color: #7f7f7f; text-decoration-color: #7f7f7f\">:746</span>\n",
       "                    zero_padding: <span style=\"color: #00ff00; text-decoration-color: #00ff00; font-style: italic\">True</span>. no rows have been lost.                              \n",
       "</pre>\n"
      ],
      "text/plain": [
       "<rich.jupyter.JupyterRenderable at 0x7f8b690e5bd0>"
      ]
     },
     "metadata": {},
     "output_type": "display_data"
    },
    {
     "data": {
      "text/html": [
       "<pre style=\"white-space:pre;overflow-x:auto;line-height:normal;font-family:Menlo,'DejaVu Sans Mono',consolas,'Courier New',monospace\"><span style=\"color: #7fbfbf; text-decoration-color: #7fbfbf\">           </span><span style=\"color: #000080; text-decoration-color: #000080\">INFO    </span> concatenated inputs enabled, concatenating <span style=\"color: #000080; text-decoration-color: #000080; font-weight: bold\">4</span> steps.      <a href=\"file:///Users/alizaidi-msft/Documents/bonsai/datadrivenmodel/dataclass.py\"><span style=\"color: #7f7f7f; text-decoration-color: #7f7f7f\">dataclass.py</span></a><span style=\"color: #7f7f7f; text-decoration-color: #7f7f7f\">:746</span>\n",
       "                    zero_padding: <span style=\"color: #00ff00; text-decoration-color: #00ff00; font-style: italic\">True</span>. no rows have been lost.                              \n",
       "</pre>\n"
      ],
      "text/plain": [
       "<rich.jupyter.JupyterRenderable at 0x7f8b690e54d0>"
      ]
     },
     "metadata": {},
     "output_type": "display_data"
    },
    {
     "data": {
      "text/html": [
       "<pre style=\"white-space:pre;overflow-x:auto;line-height:normal;font-family:Menlo,'DejaVu Sans Mono',consolas,'Courier New',monospace\"><span style=\"color: #7fbfbf; text-decoration-color: #7fbfbf\">           </span><span style=\"color: #000080; text-decoration-color: #000080\">INFO    </span> concatenated inputs enabled, concatenating <span style=\"color: #000080; text-decoration-color: #000080; font-weight: bold\">4</span> steps.      <a href=\"file:///Users/alizaidi-msft/Documents/bonsai/datadrivenmodel/dataclass.py\"><span style=\"color: #7f7f7f; text-decoration-color: #7f7f7f\">dataclass.py</span></a><span style=\"color: #7f7f7f; text-decoration-color: #7f7f7f\">:746</span>\n",
       "                    zero_padding: <span style=\"color: #00ff00; text-decoration-color: #00ff00; font-style: italic\">True</span>. no rows have been lost.                              \n",
       "</pre>\n"
      ],
      "text/plain": [
       "<rich.jupyter.JupyterRenderable at 0x7f8b690e5bd0>"
      ]
     },
     "metadata": {},
     "output_type": "display_data"
    },
    {
     "data": {
      "text/html": [
       "<pre style=\"white-space:pre;overflow-x:auto;line-height:normal;font-family:Menlo,'DejaVu Sans Mono',consolas,'Courier New',monospace\"><span style=\"color: #7fbfbf; text-decoration-color: #7fbfbf\">           </span><span style=\"color: #000080; text-decoration-color: #000080\">INFO    </span> concatenated inputs enabled, concatenating <span style=\"color: #000080; text-decoration-color: #000080; font-weight: bold\">4</span> steps.      <a href=\"file:///Users/alizaidi-msft/Documents/bonsai/datadrivenmodel/dataclass.py\"><span style=\"color: #7f7f7f; text-decoration-color: #7f7f7f\">dataclass.py</span></a><span style=\"color: #7f7f7f; text-decoration-color: #7f7f7f\">:746</span>\n",
       "                    zero_padding: <span style=\"color: #00ff00; text-decoration-color: #00ff00; font-style: italic\">True</span>. no rows have been lost.                              \n",
       "</pre>\n"
      ],
      "text/plain": [
       "<rich.jupyter.JupyterRenderable at 0x7f8b690e5550>"
      ]
     },
     "metadata": {},
     "output_type": "display_data"
    },
    {
     "data": {
      "text/html": [
       "<pre style=\"white-space:pre;overflow-x:auto;line-height:normal;font-family:Menlo,'DejaVu Sans Mono',consolas,'Courier New',monospace\"><span style=\"color: #7fbfbf; text-decoration-color: #7fbfbf\">           </span><span style=\"color: #000080; text-decoration-color: #000080\">INFO    </span> concatenated inputs enabled, concatenating <span style=\"color: #000080; text-decoration-color: #000080; font-weight: bold\">4</span> steps.      <a href=\"file:///Users/alizaidi-msft/Documents/bonsai/datadrivenmodel/dataclass.py\"><span style=\"color: #7f7f7f; text-decoration-color: #7f7f7f\">dataclass.py</span></a><span style=\"color: #7f7f7f; text-decoration-color: #7f7f7f\">:746</span>\n",
       "                    zero_padding: <span style=\"color: #00ff00; text-decoration-color: #00ff00; font-style: italic\">True</span>. no rows have been lost.                              \n",
       "</pre>\n"
      ],
      "text/plain": [
       "<rich.jupyter.JupyterRenderable at 0x7f8b690e5ad0>"
      ]
     },
     "metadata": {},
     "output_type": "display_data"
    },
    {
     "data": {
      "text/html": [
       "<pre style=\"white-space:pre;overflow-x:auto;line-height:normal;font-family:Menlo,'DejaVu Sans Mono',consolas,'Courier New',monospace\"><span style=\"color: #7fbfbf; text-decoration-color: #7fbfbf\">           </span><span style=\"color: #000080; text-decoration-color: #000080\">INFO    </span> concatenated inputs enabled, concatenating <span style=\"color: #000080; text-decoration-color: #000080; font-weight: bold\">4</span> steps.      <a href=\"file:///Users/alizaidi-msft/Documents/bonsai/datadrivenmodel/dataclass.py\"><span style=\"color: #7f7f7f; text-decoration-color: #7f7f7f\">dataclass.py</span></a><span style=\"color: #7f7f7f; text-decoration-color: #7f7f7f\">:746</span>\n",
       "                    zero_padding: <span style=\"color: #00ff00; text-decoration-color: #00ff00; font-style: italic\">True</span>. no rows have been lost.                              \n",
       "</pre>\n"
      ],
      "text/plain": [
       "<rich.jupyter.JupyterRenderable at 0x7f8b10911a90>"
      ]
     },
     "metadata": {},
     "output_type": "display_data"
    },
    {
     "data": {
      "text/html": [
       "<pre style=\"white-space:pre;overflow-x:auto;line-height:normal;font-family:Menlo,'DejaVu Sans Mono',consolas,'Courier New',monospace\"><span style=\"color: #7fbfbf; text-decoration-color: #7fbfbf\">           </span><span style=\"color: #000080; text-decoration-color: #000080\">INFO    </span> concatenated inputs enabled, concatenating <span style=\"color: #000080; text-decoration-color: #000080; font-weight: bold\">4</span> steps.      <a href=\"file:///Users/alizaidi-msft/Documents/bonsai/datadrivenmodel/dataclass.py\"><span style=\"color: #7f7f7f; text-decoration-color: #7f7f7f\">dataclass.py</span></a><span style=\"color: #7f7f7f; text-decoration-color: #7f7f7f\">:746</span>\n",
       "                    zero_padding: <span style=\"color: #00ff00; text-decoration-color: #00ff00; font-style: italic\">True</span>. no rows have been lost.                              \n",
       "</pre>\n"
      ],
      "text/plain": [
       "<rich.jupyter.JupyterRenderable at 0x7f8b109116d0>"
      ]
     },
     "metadata": {},
     "output_type": "display_data"
    },
    {
     "data": {
      "text/html": [
       "<pre style=\"white-space:pre;overflow-x:auto;line-height:normal;font-family:Menlo,'DejaVu Sans Mono',consolas,'Courier New',monospace\"><span style=\"color: #7fbfbf; text-decoration-color: #7fbfbf\">           </span><span style=\"color: #000080; text-decoration-color: #000080\">INFO    </span> concatenated inputs enabled, concatenating <span style=\"color: #000080; text-decoration-color: #000080; font-weight: bold\">4</span> steps.      <a href=\"file:///Users/alizaidi-msft/Documents/bonsai/datadrivenmodel/dataclass.py\"><span style=\"color: #7f7f7f; text-decoration-color: #7f7f7f\">dataclass.py</span></a><span style=\"color: #7f7f7f; text-decoration-color: #7f7f7f\">:746</span>\n",
       "                    zero_padding: <span style=\"color: #00ff00; text-decoration-color: #00ff00; font-style: italic\">True</span>. no rows have been lost.                              \n",
       "</pre>\n"
      ],
      "text/plain": [
       "<rich.jupyter.JupyterRenderable at 0x7f8b109113d0>"
      ]
     },
     "metadata": {},
     "output_type": "display_data"
    },
    {
     "data": {
      "text/html": [
       "<pre style=\"white-space:pre;overflow-x:auto;line-height:normal;font-family:Menlo,'DejaVu Sans Mono',consolas,'Courier New',monospace\"><span style=\"color: #7fbfbf; text-decoration-color: #7fbfbf\">           </span><span style=\"color: #000080; text-decoration-color: #000080\">INFO    </span> concatenated inputs enabled, concatenating <span style=\"color: #000080; text-decoration-color: #000080; font-weight: bold\">4</span> steps.      <a href=\"file:///Users/alizaidi-msft/Documents/bonsai/datadrivenmodel/dataclass.py\"><span style=\"color: #7f7f7f; text-decoration-color: #7f7f7f\">dataclass.py</span></a><span style=\"color: #7f7f7f; text-decoration-color: #7f7f7f\">:746</span>\n",
       "                    zero_padding: <span style=\"color: #00ff00; text-decoration-color: #00ff00; font-style: italic\">True</span>. no rows have been lost.                              \n",
       "</pre>\n"
      ],
      "text/plain": [
       "<rich.jupyter.JupyterRenderable at 0x7f8b10911c50>"
      ]
     },
     "metadata": {},
     "output_type": "display_data"
    },
    {
     "data": {
      "text/html": [
       "<pre style=\"white-space:pre;overflow-x:auto;line-height:normal;font-family:Menlo,'DejaVu Sans Mono',consolas,'Courier New',monospace\"><span style=\"color: #7fbfbf; text-decoration-color: #7fbfbf\">           </span><span style=\"color: #000080; text-decoration-color: #000080\">INFO    </span> concatenated inputs enabled, concatenating <span style=\"color: #000080; text-decoration-color: #000080; font-weight: bold\">4</span> steps.      <a href=\"file:///Users/alizaidi-msft/Documents/bonsai/datadrivenmodel/dataclass.py\"><span style=\"color: #7f7f7f; text-decoration-color: #7f7f7f\">dataclass.py</span></a><span style=\"color: #7f7f7f; text-decoration-color: #7f7f7f\">:746</span>\n",
       "                    zero_padding: <span style=\"color: #00ff00; text-decoration-color: #00ff00; font-style: italic\">True</span>. no rows have been lost.                              \n",
       "</pre>\n"
      ],
      "text/plain": [
       "<rich.jupyter.JupyterRenderable at 0x7f8b10911650>"
      ]
     },
     "metadata": {},
     "output_type": "display_data"
    },
    {
     "data": {
      "text/html": [
       "<pre style=\"white-space:pre;overflow-x:auto;line-height:normal;font-family:Menlo,'DejaVu Sans Mono',consolas,'Courier New',monospace\"><span style=\"color: #7fbfbf; text-decoration-color: #7fbfbf\">           </span><span style=\"color: #000080; text-decoration-color: #000080\">INFO    </span> concatenated inputs enabled, concatenating <span style=\"color: #000080; text-decoration-color: #000080; font-weight: bold\">4</span> steps.      <a href=\"file:///Users/alizaidi-msft/Documents/bonsai/datadrivenmodel/dataclass.py\"><span style=\"color: #7f7f7f; text-decoration-color: #7f7f7f\">dataclass.py</span></a><span style=\"color: #7f7f7f; text-decoration-color: #7f7f7f\">:746</span>\n",
       "                    zero_padding: <span style=\"color: #00ff00; text-decoration-color: #00ff00; font-style: italic\">True</span>. no rows have been lost.                              \n",
       "</pre>\n"
      ],
      "text/plain": [
       "<rich.jupyter.JupyterRenderable at 0x7f8b10911b10>"
      ]
     },
     "metadata": {},
     "output_type": "display_data"
    },
    {
     "data": {
      "text/html": [
       "<pre style=\"white-space:pre;overflow-x:auto;line-height:normal;font-family:Menlo,'DejaVu Sans Mono',consolas,'Courier New',monospace\"><span style=\"color: #7fbfbf; text-decoration-color: #7fbfbf\">           </span><span style=\"color: #000080; text-decoration-color: #000080\">INFO    </span> concatenated inputs enabled, concatenating <span style=\"color: #000080; text-decoration-color: #000080; font-weight: bold\">4</span> steps.      <a href=\"file:///Users/alizaidi-msft/Documents/bonsai/datadrivenmodel/dataclass.py\"><span style=\"color: #7f7f7f; text-decoration-color: #7f7f7f\">dataclass.py</span></a><span style=\"color: #7f7f7f; text-decoration-color: #7f7f7f\">:746</span>\n",
       "                    zero_padding: <span style=\"color: #00ff00; text-decoration-color: #00ff00; font-style: italic\">True</span>. no rows have been lost.                              \n",
       "</pre>\n"
      ],
      "text/plain": [
       "<rich.jupyter.JupyterRenderable at 0x7f8b109371d0>"
      ]
     },
     "metadata": {},
     "output_type": "display_data"
    },
    {
     "data": {
      "text/html": [
       "<pre style=\"white-space:pre;overflow-x:auto;line-height:normal;font-family:Menlo,'DejaVu Sans Mono',consolas,'Courier New',monospace\"><span style=\"color: #7fbfbf; text-decoration-color: #7fbfbf\">           </span><span style=\"color: #000080; text-decoration-color: #000080\">INFO    </span> concatenated inputs enabled, concatenating <span style=\"color: #000080; text-decoration-color: #000080; font-weight: bold\">4</span> steps.      <a href=\"file:///Users/alizaidi-msft/Documents/bonsai/datadrivenmodel/dataclass.py\"><span style=\"color: #7f7f7f; text-decoration-color: #7f7f7f\">dataclass.py</span></a><span style=\"color: #7f7f7f; text-decoration-color: #7f7f7f\">:746</span>\n",
       "                    zero_padding: <span style=\"color: #00ff00; text-decoration-color: #00ff00; font-style: italic\">True</span>. no rows have been lost.                              \n",
       "</pre>\n"
      ],
      "text/plain": [
       "<rich.jupyter.JupyterRenderable at 0x7f8b10937e10>"
      ]
     },
     "metadata": {},
     "output_type": "display_data"
    },
    {
     "data": {
      "text/html": [
       "<pre style=\"white-space:pre;overflow-x:auto;line-height:normal;font-family:Menlo,'DejaVu Sans Mono',consolas,'Courier New',monospace\"><span style=\"color: #7fbfbf; text-decoration-color: #7fbfbf\">           </span><span style=\"color: #000080; text-decoration-color: #000080\">INFO    </span> concatenated inputs enabled, concatenating <span style=\"color: #000080; text-decoration-color: #000080; font-weight: bold\">4</span> steps.      <a href=\"file:///Users/alizaidi-msft/Documents/bonsai/datadrivenmodel/dataclass.py\"><span style=\"color: #7f7f7f; text-decoration-color: #7f7f7f\">dataclass.py</span></a><span style=\"color: #7f7f7f; text-decoration-color: #7f7f7f\">:746</span>\n",
       "                    zero_padding: <span style=\"color: #00ff00; text-decoration-color: #00ff00; font-style: italic\">True</span>. no rows have been lost.                              \n",
       "</pre>\n"
      ],
      "text/plain": [
       "<rich.jupyter.JupyterRenderable at 0x7f8b10937490>"
      ]
     },
     "metadata": {},
     "output_type": "display_data"
    },
    {
     "data": {
      "text/html": [
       "<pre style=\"white-space:pre;overflow-x:auto;line-height:normal;font-family:Menlo,'DejaVu Sans Mono',consolas,'Courier New',monospace\"><span style=\"color: #7fbfbf; text-decoration-color: #7fbfbf\">[15:51:25] </span><span style=\"color: #000080; text-decoration-color: #000080\">INFO    </span> concatenated inputs enabled, concatenating <span style=\"color: #000080; text-decoration-color: #000080; font-weight: bold\">4</span> steps.      <a href=\"file:///Users/alizaidi-msft/Documents/bonsai/datadrivenmodel/dataclass.py\"><span style=\"color: #7f7f7f; text-decoration-color: #7f7f7f\">dataclass.py</span></a><span style=\"color: #7f7f7f; text-decoration-color: #7f7f7f\">:746</span>\n",
       "                    zero_padding: <span style=\"color: #00ff00; text-decoration-color: #00ff00; font-style: italic\">True</span>. no rows have been lost.                              \n",
       "</pre>\n"
      ],
      "text/plain": [
       "<rich.jupyter.JupyterRenderable at 0x7f8b10937e50>"
      ]
     },
     "metadata": {},
     "output_type": "display_data"
    },
    {
     "data": {
      "text/html": [
       "<pre style=\"white-space:pre;overflow-x:auto;line-height:normal;font-family:Menlo,'DejaVu Sans Mono',consolas,'Courier New',monospace\"><span style=\"color: #7fbfbf; text-decoration-color: #7fbfbf\">           </span><span style=\"color: #000080; text-decoration-color: #000080\">INFO    </span> concatenated inputs enabled, concatenating <span style=\"color: #000080; text-decoration-color: #000080; font-weight: bold\">4</span> steps.      <a href=\"file:///Users/alizaidi-msft/Documents/bonsai/datadrivenmodel/dataclass.py\"><span style=\"color: #7f7f7f; text-decoration-color: #7f7f7f\">dataclass.py</span></a><span style=\"color: #7f7f7f; text-decoration-color: #7f7f7f\">:746</span>\n",
       "                    zero_padding: <span style=\"color: #00ff00; text-decoration-color: #00ff00; font-style: italic\">True</span>. no rows have been lost.                              \n",
       "</pre>\n"
      ],
      "text/plain": [
       "<rich.jupyter.JupyterRenderable at 0x7f8b10937f10>"
      ]
     },
     "metadata": {},
     "output_type": "display_data"
    },
    {
     "data": {
      "text/html": [
       "<pre style=\"white-space:pre;overflow-x:auto;line-height:normal;font-family:Menlo,'DejaVu Sans Mono',consolas,'Courier New',monospace\"><span style=\"color: #7fbfbf; text-decoration-color: #7fbfbf\">           </span><span style=\"color: #000080; text-decoration-color: #000080\">INFO    </span> concatenated inputs enabled, concatenating <span style=\"color: #000080; text-decoration-color: #000080; font-weight: bold\">4</span> steps.      <a href=\"file:///Users/alizaidi-msft/Documents/bonsai/datadrivenmodel/dataclass.py\"><span style=\"color: #7f7f7f; text-decoration-color: #7f7f7f\">dataclass.py</span></a><span style=\"color: #7f7f7f; text-decoration-color: #7f7f7f\">:746</span>\n",
       "                    zero_padding: <span style=\"color: #00ff00; text-decoration-color: #00ff00; font-style: italic\">True</span>. no rows have been lost.                              \n",
       "</pre>\n"
      ],
      "text/plain": [
       "<rich.jupyter.JupyterRenderable at 0x7f8b10937f90>"
      ]
     },
     "metadata": {},
     "output_type": "display_data"
    },
    {
     "data": {
      "text/html": [
       "<pre style=\"white-space:pre;overflow-x:auto;line-height:normal;font-family:Menlo,'DejaVu Sans Mono',consolas,'Courier New',monospace\"><span style=\"color: #7fbfbf; text-decoration-color: #7fbfbf\">           </span><span style=\"color: #000080; text-decoration-color: #000080\">INFO    </span> concatenated inputs enabled, concatenating <span style=\"color: #000080; text-decoration-color: #000080; font-weight: bold\">4</span> steps.      <a href=\"file:///Users/alizaidi-msft/Documents/bonsai/datadrivenmodel/dataclass.py\"><span style=\"color: #7f7f7f; text-decoration-color: #7f7f7f\">dataclass.py</span></a><span style=\"color: #7f7f7f; text-decoration-color: #7f7f7f\">:746</span>\n",
       "                    zero_padding: <span style=\"color: #00ff00; text-decoration-color: #00ff00; font-style: italic\">True</span>. no rows have been lost.                              \n",
       "</pre>\n"
      ],
      "text/plain": [
       "<rich.jupyter.JupyterRenderable at 0x7f8b086b5b90>"
      ]
     },
     "metadata": {},
     "output_type": "display_data"
    },
    {
     "data": {
      "text/html": [
       "<pre style=\"white-space:pre;overflow-x:auto;line-height:normal;font-family:Menlo,'DejaVu Sans Mono',consolas,'Courier New',monospace\"><span style=\"color: #7fbfbf; text-decoration-color: #7fbfbf\">           </span><span style=\"color: #000080; text-decoration-color: #000080\">INFO    </span> concatenated inputs enabled, concatenating <span style=\"color: #000080; text-decoration-color: #000080; font-weight: bold\">4</span> steps.      <a href=\"file:///Users/alizaidi-msft/Documents/bonsai/datadrivenmodel/dataclass.py\"><span style=\"color: #7f7f7f; text-decoration-color: #7f7f7f\">dataclass.py</span></a><span style=\"color: #7f7f7f; text-decoration-color: #7f7f7f\">:746</span>\n",
       "                    zero_padding: <span style=\"color: #00ff00; text-decoration-color: #00ff00; font-style: italic\">True</span>. no rows have been lost.                              \n",
       "</pre>\n"
      ],
      "text/plain": [
       "<rich.jupyter.JupyterRenderable at 0x7f8b086b5510>"
      ]
     },
     "metadata": {},
     "output_type": "display_data"
    },
    {
     "data": {
      "text/html": [
       "<pre style=\"white-space:pre;overflow-x:auto;line-height:normal;font-family:Menlo,'DejaVu Sans Mono',consolas,'Courier New',monospace\"><span style=\"color: #7fbfbf; text-decoration-color: #7fbfbf\">           </span><span style=\"color: #000080; text-decoration-color: #000080\">INFO    </span> concatenated inputs enabled, concatenating <span style=\"color: #000080; text-decoration-color: #000080; font-weight: bold\">4</span> steps.      <a href=\"file:///Users/alizaidi-msft/Documents/bonsai/datadrivenmodel/dataclass.py\"><span style=\"color: #7f7f7f; text-decoration-color: #7f7f7f\">dataclass.py</span></a><span style=\"color: #7f7f7f; text-decoration-color: #7f7f7f\">:746</span>\n",
       "                    zero_padding: <span style=\"color: #00ff00; text-decoration-color: #00ff00; font-style: italic\">True</span>. no rows have been lost.                              \n",
       "</pre>\n"
      ],
      "text/plain": [
       "<rich.jupyter.JupyterRenderable at 0x7f8b086b5550>"
      ]
     },
     "metadata": {},
     "output_type": "display_data"
    },
    {
     "data": {
      "text/html": [
       "<pre style=\"white-space:pre;overflow-x:auto;line-height:normal;font-family:Menlo,'DejaVu Sans Mono',consolas,'Courier New',monospace\"><span style=\"color: #7fbfbf; text-decoration-color: #7fbfbf\">           </span><span style=\"color: #000080; text-decoration-color: #000080\">INFO    </span> concatenated inputs enabled, concatenating <span style=\"color: #000080; text-decoration-color: #000080; font-weight: bold\">4</span> steps.      <a href=\"file:///Users/alizaidi-msft/Documents/bonsai/datadrivenmodel/dataclass.py\"><span style=\"color: #7f7f7f; text-decoration-color: #7f7f7f\">dataclass.py</span></a><span style=\"color: #7f7f7f; text-decoration-color: #7f7f7f\">:746</span>\n",
       "                    zero_padding: <span style=\"color: #00ff00; text-decoration-color: #00ff00; font-style: italic\">True</span>. no rows have been lost.                              \n",
       "</pre>\n"
      ],
      "text/plain": [
       "<rich.jupyter.JupyterRenderable at 0x7f8b086b5f90>"
      ]
     },
     "metadata": {},
     "output_type": "display_data"
    },
    {
     "data": {
      "text/html": [
       "<pre style=\"white-space:pre;overflow-x:auto;line-height:normal;font-family:Menlo,'DejaVu Sans Mono',consolas,'Courier New',monospace\"><span style=\"color: #7fbfbf; text-decoration-color: #7fbfbf\">           </span><span style=\"color: #000080; text-decoration-color: #000080\">INFO    </span> concatenated inputs enabled, concatenating <span style=\"color: #000080; text-decoration-color: #000080; font-weight: bold\">4</span> steps.      <a href=\"file:///Users/alizaidi-msft/Documents/bonsai/datadrivenmodel/dataclass.py\"><span style=\"color: #7f7f7f; text-decoration-color: #7f7f7f\">dataclass.py</span></a><span style=\"color: #7f7f7f; text-decoration-color: #7f7f7f\">:746</span>\n",
       "                    zero_padding: <span style=\"color: #00ff00; text-decoration-color: #00ff00; font-style: italic\">True</span>. no rows have been lost.                              \n",
       "</pre>\n"
      ],
      "text/plain": [
       "<rich.jupyter.JupyterRenderable at 0x7f8b086b5ad0>"
      ]
     },
     "metadata": {},
     "output_type": "display_data"
    },
    {
     "data": {
      "text/html": [
       "<pre style=\"white-space:pre;overflow-x:auto;line-height:normal;font-family:Menlo,'DejaVu Sans Mono',consolas,'Courier New',monospace\"><span style=\"color: #7fbfbf; text-decoration-color: #7fbfbf\">           </span><span style=\"color: #000080; text-decoration-color: #000080\">INFO    </span> concatenated inputs enabled, concatenating <span style=\"color: #000080; text-decoration-color: #000080; font-weight: bold\">4</span> steps.      <a href=\"file:///Users/alizaidi-msft/Documents/bonsai/datadrivenmodel/dataclass.py\"><span style=\"color: #7f7f7f; text-decoration-color: #7f7f7f\">dataclass.py</span></a><span style=\"color: #7f7f7f; text-decoration-color: #7f7f7f\">:746</span>\n",
       "                    zero_padding: <span style=\"color: #00ff00; text-decoration-color: #00ff00; font-style: italic\">True</span>. no rows have been lost.                              \n",
       "</pre>\n"
      ],
      "text/plain": [
       "<rich.jupyter.JupyterRenderable at 0x7f8b086b5e90>"
      ]
     },
     "metadata": {},
     "output_type": "display_data"
    },
    {
     "data": {
      "text/html": [
       "<pre style=\"white-space:pre;overflow-x:auto;line-height:normal;font-family:Menlo,'DejaVu Sans Mono',consolas,'Courier New',monospace\"><span style=\"color: #7fbfbf; text-decoration-color: #7fbfbf\">           </span><span style=\"color: #000080; text-decoration-color: #000080\">INFO    </span> concatenated inputs enabled, concatenating <span style=\"color: #000080; text-decoration-color: #000080; font-weight: bold\">4</span> steps.      <a href=\"file:///Users/alizaidi-msft/Documents/bonsai/datadrivenmodel/dataclass.py\"><span style=\"color: #7f7f7f; text-decoration-color: #7f7f7f\">dataclass.py</span></a><span style=\"color: #7f7f7f; text-decoration-color: #7f7f7f\">:746</span>\n",
       "                    zero_padding: <span style=\"color: #00ff00; text-decoration-color: #00ff00; font-style: italic\">True</span>. no rows have been lost.                              \n",
       "</pre>\n"
      ],
      "text/plain": [
       "<rich.jupyter.JupyterRenderable at 0x7f8b086d9c50>"
      ]
     },
     "metadata": {},
     "output_type": "display_data"
    },
    {
     "data": {
      "text/html": [
       "<pre style=\"white-space:pre;overflow-x:auto;line-height:normal;font-family:Menlo,'DejaVu Sans Mono',consolas,'Courier New',monospace\"><span style=\"color: #7fbfbf; text-decoration-color: #7fbfbf\">           </span><span style=\"color: #000080; text-decoration-color: #000080\">INFO    </span> concatenated inputs enabled, concatenating <span style=\"color: #000080; text-decoration-color: #000080; font-weight: bold\">4</span> steps.      <a href=\"file:///Users/alizaidi-msft/Documents/bonsai/datadrivenmodel/dataclass.py\"><span style=\"color: #7f7f7f; text-decoration-color: #7f7f7f\">dataclass.py</span></a><span style=\"color: #7f7f7f; text-decoration-color: #7f7f7f\">:746</span>\n",
       "                    zero_padding: <span style=\"color: #00ff00; text-decoration-color: #00ff00; font-style: italic\">True</span>. no rows have been lost.                              \n",
       "</pre>\n"
      ],
      "text/plain": [
       "<rich.jupyter.JupyterRenderable at 0x7f8b086d9050>"
      ]
     },
     "metadata": {},
     "output_type": "display_data"
    },
    {
     "data": {
      "text/html": [
       "<pre style=\"white-space:pre;overflow-x:auto;line-height:normal;font-family:Menlo,'DejaVu Sans Mono',consolas,'Courier New',monospace\"><span style=\"color: #7fbfbf; text-decoration-color: #7fbfbf\">           </span><span style=\"color: #000080; text-decoration-color: #000080\">INFO    </span> concatenated inputs enabled, concatenating <span style=\"color: #000080; text-decoration-color: #000080; font-weight: bold\">4</span> steps.      <a href=\"file:///Users/alizaidi-msft/Documents/bonsai/datadrivenmodel/dataclass.py\"><span style=\"color: #7f7f7f; text-decoration-color: #7f7f7f\">dataclass.py</span></a><span style=\"color: #7f7f7f; text-decoration-color: #7f7f7f\">:746</span>\n",
       "                    zero_padding: <span style=\"color: #00ff00; text-decoration-color: #00ff00; font-style: italic\">True</span>. no rows have been lost.                              \n",
       "</pre>\n"
      ],
      "text/plain": [
       "<rich.jupyter.JupyterRenderable at 0x7f8b086d9810>"
      ]
     },
     "metadata": {},
     "output_type": "display_data"
    },
    {
     "data": {
      "text/html": [
       "<pre style=\"white-space:pre;overflow-x:auto;line-height:normal;font-family:Menlo,'DejaVu Sans Mono',consolas,'Courier New',monospace\"><span style=\"color: #7fbfbf; text-decoration-color: #7fbfbf\">           </span><span style=\"color: #000080; text-decoration-color: #000080\">INFO    </span> concatenated inputs enabled, concatenating <span style=\"color: #000080; text-decoration-color: #000080; font-weight: bold\">4</span> steps.      <a href=\"file:///Users/alizaidi-msft/Documents/bonsai/datadrivenmodel/dataclass.py\"><span style=\"color: #7f7f7f; text-decoration-color: #7f7f7f\">dataclass.py</span></a><span style=\"color: #7f7f7f; text-decoration-color: #7f7f7f\">:746</span>\n",
       "                    zero_padding: <span style=\"color: #00ff00; text-decoration-color: #00ff00; font-style: italic\">True</span>. no rows have been lost.                              \n",
       "</pre>\n"
      ],
      "text/plain": [
       "<rich.jupyter.JupyterRenderable at 0x7f8b086d9390>"
      ]
     },
     "metadata": {},
     "output_type": "display_data"
    },
    {
     "data": {
      "text/html": [
       "<pre style=\"white-space:pre;overflow-x:auto;line-height:normal;font-family:Menlo,'DejaVu Sans Mono',consolas,'Courier New',monospace\"><span style=\"color: #7fbfbf; text-decoration-color: #7fbfbf\">           </span><span style=\"color: #000080; text-decoration-color: #000080\">INFO    </span> concatenated inputs enabled, concatenating <span style=\"color: #000080; text-decoration-color: #000080; font-weight: bold\">4</span> steps.      <a href=\"file:///Users/alizaidi-msft/Documents/bonsai/datadrivenmodel/dataclass.py\"><span style=\"color: #7f7f7f; text-decoration-color: #7f7f7f\">dataclass.py</span></a><span style=\"color: #7f7f7f; text-decoration-color: #7f7f7f\">:746</span>\n",
       "                    zero_padding: <span style=\"color: #00ff00; text-decoration-color: #00ff00; font-style: italic\">True</span>. no rows have been lost.                              \n",
       "</pre>\n"
      ],
      "text/plain": [
       "<rich.jupyter.JupyterRenderable at 0x7f8b086d9610>"
      ]
     },
     "metadata": {},
     "output_type": "display_data"
    },
    {
     "data": {
      "text/html": [
       "<pre style=\"white-space:pre;overflow-x:auto;line-height:normal;font-family:Menlo,'DejaVu Sans Mono',consolas,'Courier New',monospace\"><span style=\"color: #7fbfbf; text-decoration-color: #7fbfbf\">           </span><span style=\"color: #000080; text-decoration-color: #000080\">INFO    </span> concatenated inputs enabled, concatenating <span style=\"color: #000080; text-decoration-color: #000080; font-weight: bold\">4</span> steps.      <a href=\"file:///Users/alizaidi-msft/Documents/bonsai/datadrivenmodel/dataclass.py\"><span style=\"color: #7f7f7f; text-decoration-color: #7f7f7f\">dataclass.py</span></a><span style=\"color: #7f7f7f; text-decoration-color: #7f7f7f\">:746</span>\n",
       "                    zero_padding: <span style=\"color: #00ff00; text-decoration-color: #00ff00; font-style: italic\">True</span>. no rows have been lost.                              \n",
       "</pre>\n"
      ],
      "text/plain": [
       "<rich.jupyter.JupyterRenderable at 0x7f8b69155050>"
      ]
     },
     "metadata": {},
     "output_type": "display_data"
    },
    {
     "data": {
      "text/html": [
       "<pre style=\"white-space:pre;overflow-x:auto;line-height:normal;font-family:Menlo,'DejaVu Sans Mono',consolas,'Courier New',monospace\"><span style=\"color: #7fbfbf; text-decoration-color: #7fbfbf\">           </span><span style=\"color: #000080; text-decoration-color: #000080\">INFO    </span> concatenated inputs enabled, concatenating <span style=\"color: #000080; text-decoration-color: #000080; font-weight: bold\">4</span> steps.      <a href=\"file:///Users/alizaidi-msft/Documents/bonsai/datadrivenmodel/dataclass.py\"><span style=\"color: #7f7f7f; text-decoration-color: #7f7f7f\">dataclass.py</span></a><span style=\"color: #7f7f7f; text-decoration-color: #7f7f7f\">:746</span>\n",
       "                    zero_padding: <span style=\"color: #00ff00; text-decoration-color: #00ff00; font-style: italic\">True</span>. no rows have been lost.                              \n",
       "</pre>\n"
      ],
      "text/plain": [
       "<rich.jupyter.JupyterRenderable at 0x7f8b69155c90>"
      ]
     },
     "metadata": {},
     "output_type": "display_data"
    },
    {
     "data": {
      "text/html": [
       "<pre style=\"white-space:pre;overflow-x:auto;line-height:normal;font-family:Menlo,'DejaVu Sans Mono',consolas,'Courier New',monospace\"><span style=\"color: #7fbfbf; text-decoration-color: #7fbfbf\">           </span><span style=\"color: #000080; text-decoration-color: #000080\">INFO    </span> concatenated inputs enabled, concatenating <span style=\"color: #000080; text-decoration-color: #000080; font-weight: bold\">4</span> steps.      <a href=\"file:///Users/alizaidi-msft/Documents/bonsai/datadrivenmodel/dataclass.py\"><span style=\"color: #7f7f7f; text-decoration-color: #7f7f7f\">dataclass.py</span></a><span style=\"color: #7f7f7f; text-decoration-color: #7f7f7f\">:746</span>\n",
       "                    zero_padding: <span style=\"color: #00ff00; text-decoration-color: #00ff00; font-style: italic\">True</span>. no rows have been lost.                              \n",
       "</pre>\n"
      ],
      "text/plain": [
       "<rich.jupyter.JupyterRenderable at 0x7f8b69155a50>"
      ]
     },
     "metadata": {},
     "output_type": "display_data"
    },
    {
     "data": {
      "text/html": [
       "<pre style=\"white-space:pre;overflow-x:auto;line-height:normal;font-family:Menlo,'DejaVu Sans Mono',consolas,'Courier New',monospace\"><span style=\"color: #7fbfbf; text-decoration-color: #7fbfbf\">           </span><span style=\"color: #000080; text-decoration-color: #000080\">INFO    </span> concatenated inputs enabled, concatenating <span style=\"color: #000080; text-decoration-color: #000080; font-weight: bold\">4</span> steps.      <a href=\"file:///Users/alizaidi-msft/Documents/bonsai/datadrivenmodel/dataclass.py\"><span style=\"color: #7f7f7f; text-decoration-color: #7f7f7f\">dataclass.py</span></a><span style=\"color: #7f7f7f; text-decoration-color: #7f7f7f\">:746</span>\n",
       "                    zero_padding: <span style=\"color: #00ff00; text-decoration-color: #00ff00; font-style: italic\">True</span>. no rows have been lost.                              \n",
       "</pre>\n"
      ],
      "text/plain": [
       "<rich.jupyter.JupyterRenderable at 0x7f8b69155dd0>"
      ]
     },
     "metadata": {},
     "output_type": "display_data"
    },
    {
     "data": {
      "text/html": [
       "<pre style=\"white-space:pre;overflow-x:auto;line-height:normal;font-family:Menlo,'DejaVu Sans Mono',consolas,'Courier New',monospace\"><span style=\"color: #7fbfbf; text-decoration-color: #7fbfbf\">           </span><span style=\"color: #000080; text-decoration-color: #000080\">INFO    </span> concatenated inputs enabled, concatenating <span style=\"color: #000080; text-decoration-color: #000080; font-weight: bold\">4</span> steps.      <a href=\"file:///Users/alizaidi-msft/Documents/bonsai/datadrivenmodel/dataclass.py\"><span style=\"color: #7f7f7f; text-decoration-color: #7f7f7f\">dataclass.py</span></a><span style=\"color: #7f7f7f; text-decoration-color: #7f7f7f\">:746</span>\n",
       "                    zero_padding: <span style=\"color: #00ff00; text-decoration-color: #00ff00; font-style: italic\">True</span>. no rows have been lost.                              \n",
       "</pre>\n"
      ],
      "text/plain": [
       "<rich.jupyter.JupyterRenderable at 0x7f8b691558d0>"
      ]
     },
     "metadata": {},
     "output_type": "display_data"
    },
    {
     "data": {
      "text/html": [
       "<pre style=\"white-space:pre;overflow-x:auto;line-height:normal;font-family:Menlo,'DejaVu Sans Mono',consolas,'Courier New',monospace\"><span style=\"color: #7fbfbf; text-decoration-color: #7fbfbf\">           </span><span style=\"color: #000080; text-decoration-color: #000080\">INFO    </span> concatenated inputs enabled, concatenating <span style=\"color: #000080; text-decoration-color: #000080; font-weight: bold\">4</span> steps.      <a href=\"file:///Users/alizaidi-msft/Documents/bonsai/datadrivenmodel/dataclass.py\"><span style=\"color: #7f7f7f; text-decoration-color: #7f7f7f\">dataclass.py</span></a><span style=\"color: #7f7f7f; text-decoration-color: #7f7f7f\">:746</span>\n",
       "                    zero_padding: <span style=\"color: #00ff00; text-decoration-color: #00ff00; font-style: italic\">True</span>. no rows have been lost.                              \n",
       "</pre>\n"
      ],
      "text/plain": [
       "<rich.jupyter.JupyterRenderable at 0x7f8b69155250>"
      ]
     },
     "metadata": {},
     "output_type": "display_data"
    },
    {
     "data": {
      "text/html": [
       "<pre style=\"white-space:pre;overflow-x:auto;line-height:normal;font-family:Menlo,'DejaVu Sans Mono',consolas,'Courier New',monospace\"><span style=\"color: #7fbfbf; text-decoration-color: #7fbfbf\">           </span><span style=\"color: #000080; text-decoration-color: #000080\">INFO    </span> concatenated inputs enabled, concatenating <span style=\"color: #000080; text-decoration-color: #000080; font-weight: bold\">4</span> steps.      <a href=\"file:///Users/alizaidi-msft/Documents/bonsai/datadrivenmodel/dataclass.py\"><span style=\"color: #7f7f7f; text-decoration-color: #7f7f7f\">dataclass.py</span></a><span style=\"color: #7f7f7f; text-decoration-color: #7f7f7f\">:746</span>\n",
       "                    zero_padding: <span style=\"color: #00ff00; text-decoration-color: #00ff00; font-style: italic\">True</span>. no rows have been lost.                              \n",
       "</pre>\n"
      ],
      "text/plain": [
       "<rich.jupyter.JupyterRenderable at 0x7f8b69176910>"
      ]
     },
     "metadata": {},
     "output_type": "display_data"
    },
    {
     "data": {
      "text/html": [
       "<pre style=\"white-space:pre;overflow-x:auto;line-height:normal;font-family:Menlo,'DejaVu Sans Mono',consolas,'Courier New',monospace\"><span style=\"color: #7fbfbf; text-decoration-color: #7fbfbf\">           </span><span style=\"color: #000080; text-decoration-color: #000080\">INFO    </span> concatenated inputs enabled, concatenating <span style=\"color: #000080; text-decoration-color: #000080; font-weight: bold\">4</span> steps.      <a href=\"file:///Users/alizaidi-msft/Documents/bonsai/datadrivenmodel/dataclass.py\"><span style=\"color: #7f7f7f; text-decoration-color: #7f7f7f\">dataclass.py</span></a><span style=\"color: #7f7f7f; text-decoration-color: #7f7f7f\">:746</span>\n",
       "                    zero_padding: <span style=\"color: #00ff00; text-decoration-color: #00ff00; font-style: italic\">True</span>. no rows have been lost.                              \n",
       "</pre>\n"
      ],
      "text/plain": [
       "<rich.jupyter.JupyterRenderable at 0x7f8b69176150>"
      ]
     },
     "metadata": {},
     "output_type": "display_data"
    },
    {
     "data": {
      "text/html": [
       "<pre style=\"white-space:pre;overflow-x:auto;line-height:normal;font-family:Menlo,'DejaVu Sans Mono',consolas,'Courier New',monospace\"><span style=\"color: #7fbfbf; text-decoration-color: #7fbfbf\">           </span><span style=\"color: #000080; text-decoration-color: #000080\">INFO    </span> concatenated inputs enabled, concatenating <span style=\"color: #000080; text-decoration-color: #000080; font-weight: bold\">4</span> steps.      <a href=\"file:///Users/alizaidi-msft/Documents/bonsai/datadrivenmodel/dataclass.py\"><span style=\"color: #7f7f7f; text-decoration-color: #7f7f7f\">dataclass.py</span></a><span style=\"color: #7f7f7f; text-decoration-color: #7f7f7f\">:746</span>\n",
       "                    zero_padding: <span style=\"color: #00ff00; text-decoration-color: #00ff00; font-style: italic\">True</span>. no rows have been lost.                              \n",
       "</pre>\n"
      ],
      "text/plain": [
       "<rich.jupyter.JupyterRenderable at 0x7f8b69176150>"
      ]
     },
     "metadata": {},
     "output_type": "display_data"
    },
    {
     "data": {
      "text/html": [
       "<pre style=\"white-space:pre;overflow-x:auto;line-height:normal;font-family:Menlo,'DejaVu Sans Mono',consolas,'Courier New',monospace\"><span style=\"color: #7fbfbf; text-decoration-color: #7fbfbf\">           </span><span style=\"color: #000080; text-decoration-color: #000080\">INFO    </span> concatenated inputs enabled, concatenating <span style=\"color: #000080; text-decoration-color: #000080; font-weight: bold\">4</span> steps.      <a href=\"file:///Users/alizaidi-msft/Documents/bonsai/datadrivenmodel/dataclass.py\"><span style=\"color: #7f7f7f; text-decoration-color: #7f7f7f\">dataclass.py</span></a><span style=\"color: #7f7f7f; text-decoration-color: #7f7f7f\">:746</span>\n",
       "                    zero_padding: <span style=\"color: #00ff00; text-decoration-color: #00ff00; font-style: italic\">True</span>. no rows have been lost.                              \n",
       "</pre>\n"
      ],
      "text/plain": [
       "<rich.jupyter.JupyterRenderable at 0x7f8b69176f90>"
      ]
     },
     "metadata": {},
     "output_type": "display_data"
    },
    {
     "data": {
      "text/html": [
       "<pre style=\"white-space:pre;overflow-x:auto;line-height:normal;font-family:Menlo,'DejaVu Sans Mono',consolas,'Courier New',monospace\"><span style=\"color: #7fbfbf; text-decoration-color: #7fbfbf\">           </span><span style=\"color: #000080; text-decoration-color: #000080\">INFO    </span> concatenated inputs enabled, concatenating <span style=\"color: #000080; text-decoration-color: #000080; font-weight: bold\">4</span> steps.      <a href=\"file:///Users/alizaidi-msft/Documents/bonsai/datadrivenmodel/dataclass.py\"><span style=\"color: #7f7f7f; text-decoration-color: #7f7f7f\">dataclass.py</span></a><span style=\"color: #7f7f7f; text-decoration-color: #7f7f7f\">:746</span>\n",
       "                    zero_padding: <span style=\"color: #00ff00; text-decoration-color: #00ff00; font-style: italic\">True</span>. no rows have been lost.                              \n",
       "</pre>\n"
      ],
      "text/plain": [
       "<rich.jupyter.JupyterRenderable at 0x7f8b69176650>"
      ]
     },
     "metadata": {},
     "output_type": "display_data"
    },
    {
     "data": {
      "text/html": [
       "<pre style=\"white-space:pre;overflow-x:auto;line-height:normal;font-family:Menlo,'DejaVu Sans Mono',consolas,'Courier New',monospace\"><span style=\"color: #7fbfbf; text-decoration-color: #7fbfbf\">           </span><span style=\"color: #000080; text-decoration-color: #000080\">INFO    </span> concatenated inputs enabled, concatenating <span style=\"color: #000080; text-decoration-color: #000080; font-weight: bold\">4</span> steps.      <a href=\"file:///Users/alizaidi-msft/Documents/bonsai/datadrivenmodel/dataclass.py\"><span style=\"color: #7f7f7f; text-decoration-color: #7f7f7f\">dataclass.py</span></a><span style=\"color: #7f7f7f; text-decoration-color: #7f7f7f\">:746</span>\n",
       "                    zero_padding: <span style=\"color: #00ff00; text-decoration-color: #00ff00; font-style: italic\">True</span>. no rows have been lost.                              \n",
       "</pre>\n"
      ],
      "text/plain": [
       "<rich.jupyter.JupyterRenderable at 0x7f8b69176cd0>"
      ]
     },
     "metadata": {},
     "output_type": "display_data"
    },
    {
     "data": {
      "text/html": [
       "<pre style=\"white-space:pre;overflow-x:auto;line-height:normal;font-family:Menlo,'DejaVu Sans Mono',consolas,'Courier New',monospace\"><span style=\"color: #7fbfbf; text-decoration-color: #7fbfbf\">           </span><span style=\"color: #000080; text-decoration-color: #000080\">INFO    </span> concatenated inputs enabled, concatenating <span style=\"color: #000080; text-decoration-color: #000080; font-weight: bold\">4</span> steps.      <a href=\"file:///Users/alizaidi-msft/Documents/bonsai/datadrivenmodel/dataclass.py\"><span style=\"color: #7f7f7f; text-decoration-color: #7f7f7f\">dataclass.py</span></a><span style=\"color: #7f7f7f; text-decoration-color: #7f7f7f\">:746</span>\n",
       "                    zero_padding: <span style=\"color: #00ff00; text-decoration-color: #00ff00; font-style: italic\">True</span>. no rows have been lost.                              \n",
       "</pre>\n"
      ],
      "text/plain": [
       "<rich.jupyter.JupyterRenderable at 0x7f8b08703bd0>"
      ]
     },
     "metadata": {},
     "output_type": "display_data"
    },
    {
     "data": {
      "text/html": [
       "<pre style=\"white-space:pre;overflow-x:auto;line-height:normal;font-family:Menlo,'DejaVu Sans Mono',consolas,'Courier New',monospace\"><span style=\"color: #7fbfbf; text-decoration-color: #7fbfbf\">           </span><span style=\"color: #000080; text-decoration-color: #000080\">INFO    </span> concatenated inputs enabled, concatenating <span style=\"color: #000080; text-decoration-color: #000080; font-weight: bold\">4</span> steps.      <a href=\"file:///Users/alizaidi-msft/Documents/bonsai/datadrivenmodel/dataclass.py\"><span style=\"color: #7f7f7f; text-decoration-color: #7f7f7f\">dataclass.py</span></a><span style=\"color: #7f7f7f; text-decoration-color: #7f7f7f\">:746</span>\n",
       "                    zero_padding: <span style=\"color: #00ff00; text-decoration-color: #00ff00; font-style: italic\">True</span>. no rows have been lost.                              \n",
       "</pre>\n"
      ],
      "text/plain": [
       "<rich.jupyter.JupyterRenderable at 0x7f8b087031d0>"
      ]
     },
     "metadata": {},
     "output_type": "display_data"
    },
    {
     "data": {
      "text/html": [
       "<pre style=\"white-space:pre;overflow-x:auto;line-height:normal;font-family:Menlo,'DejaVu Sans Mono',consolas,'Courier New',monospace\"><span style=\"color: #7fbfbf; text-decoration-color: #7fbfbf\">           </span><span style=\"color: #000080; text-decoration-color: #000080\">INFO    </span> concatenated inputs enabled, concatenating <span style=\"color: #000080; text-decoration-color: #000080; font-weight: bold\">4</span> steps.      <a href=\"file:///Users/alizaidi-msft/Documents/bonsai/datadrivenmodel/dataclass.py\"><span style=\"color: #7f7f7f; text-decoration-color: #7f7f7f\">dataclass.py</span></a><span style=\"color: #7f7f7f; text-decoration-color: #7f7f7f\">:746</span>\n",
       "                    zero_padding: <span style=\"color: #00ff00; text-decoration-color: #00ff00; font-style: italic\">True</span>. no rows have been lost.                              \n",
       "</pre>\n"
      ],
      "text/plain": [
       "<rich.jupyter.JupyterRenderable at 0x7f8b08703bd0>"
      ]
     },
     "metadata": {},
     "output_type": "display_data"
    },
    {
     "data": {
      "text/html": [
       "<pre style=\"white-space:pre;overflow-x:auto;line-height:normal;font-family:Menlo,'DejaVu Sans Mono',consolas,'Courier New',monospace\"><span style=\"color: #7fbfbf; text-decoration-color: #7fbfbf\">           </span><span style=\"color: #000080; text-decoration-color: #000080\">INFO    </span> concatenated inputs enabled, concatenating <span style=\"color: #000080; text-decoration-color: #000080; font-weight: bold\">4</span> steps.      <a href=\"file:///Users/alizaidi-msft/Documents/bonsai/datadrivenmodel/dataclass.py\"><span style=\"color: #7f7f7f; text-decoration-color: #7f7f7f\">dataclass.py</span></a><span style=\"color: #7f7f7f; text-decoration-color: #7f7f7f\">:746</span>\n",
       "                    zero_padding: <span style=\"color: #00ff00; text-decoration-color: #00ff00; font-style: italic\">True</span>. no rows have been lost.                              \n",
       "</pre>\n"
      ],
      "text/plain": [
       "<rich.jupyter.JupyterRenderable at 0x7f8b08703510>"
      ]
     },
     "metadata": {},
     "output_type": "display_data"
    },
    {
     "data": {
      "text/html": [
       "<pre style=\"white-space:pre;overflow-x:auto;line-height:normal;font-family:Menlo,'DejaVu Sans Mono',consolas,'Courier New',monospace\"><span style=\"color: #7fbfbf; text-decoration-color: #7fbfbf\">           </span><span style=\"color: #000080; text-decoration-color: #000080\">INFO    </span> concatenated inputs enabled, concatenating <span style=\"color: #000080; text-decoration-color: #000080; font-weight: bold\">4</span> steps.      <a href=\"file:///Users/alizaidi-msft/Documents/bonsai/datadrivenmodel/dataclass.py\"><span style=\"color: #7f7f7f; text-decoration-color: #7f7f7f\">dataclass.py</span></a><span style=\"color: #7f7f7f; text-decoration-color: #7f7f7f\">:746</span>\n",
       "                    zero_padding: <span style=\"color: #00ff00; text-decoration-color: #00ff00; font-style: italic\">True</span>. no rows have been lost.                              \n",
       "</pre>\n"
      ],
      "text/plain": [
       "<rich.jupyter.JupyterRenderable at 0x7f8b69176ed0>"
      ]
     },
     "metadata": {},
     "output_type": "display_data"
    },
    {
     "data": {
      "text/html": [
       "<pre style=\"white-space:pre;overflow-x:auto;line-height:normal;font-family:Menlo,'DejaVu Sans Mono',consolas,'Courier New',monospace\"><span style=\"color: #7fbfbf; text-decoration-color: #7fbfbf\">           </span><span style=\"color: #000080; text-decoration-color: #000080\">INFO    </span> concatenated inputs enabled, concatenating <span style=\"color: #000080; text-decoration-color: #000080; font-weight: bold\">4</span> steps.      <a href=\"file:///Users/alizaidi-msft/Documents/bonsai/datadrivenmodel/dataclass.py\"><span style=\"color: #7f7f7f; text-decoration-color: #7f7f7f\">dataclass.py</span></a><span style=\"color: #7f7f7f; text-decoration-color: #7f7f7f\">:746</span>\n",
       "                    zero_padding: <span style=\"color: #00ff00; text-decoration-color: #00ff00; font-style: italic\">True</span>. no rows have been lost.                              \n",
       "</pre>\n"
      ],
      "text/plain": [
       "<rich.jupyter.JupyterRenderable at 0x7f8b08703ed0>"
      ]
     },
     "metadata": {},
     "output_type": "display_data"
    },
    {
     "data": {
      "text/html": [
       "<pre style=\"white-space:pre;overflow-x:auto;line-height:normal;font-family:Menlo,'DejaVu Sans Mono',consolas,'Courier New',monospace\"><span style=\"color: #7fbfbf; text-decoration-color: #7fbfbf\">           </span><span style=\"color: #000080; text-decoration-color: #000080\">INFO    </span> concatenated inputs enabled, concatenating <span style=\"color: #000080; text-decoration-color: #000080; font-weight: bold\">4</span> steps.      <a href=\"file:///Users/alizaidi-msft/Documents/bonsai/datadrivenmodel/dataclass.py\"><span style=\"color: #7f7f7f; text-decoration-color: #7f7f7f\">dataclass.py</span></a><span style=\"color: #7f7f7f; text-decoration-color: #7f7f7f\">:746</span>\n",
       "                    zero_padding: <span style=\"color: #00ff00; text-decoration-color: #00ff00; font-style: italic\">True</span>. no rows have been lost.                              \n",
       "</pre>\n"
      ],
      "text/plain": [
       "<rich.jupyter.JupyterRenderable at 0x7f8b08729b90>"
      ]
     },
     "metadata": {},
     "output_type": "display_data"
    },
    {
     "data": {
      "text/html": [
       "<pre style=\"white-space:pre;overflow-x:auto;line-height:normal;font-family:Menlo,'DejaVu Sans Mono',consolas,'Courier New',monospace\"><span style=\"color: #7fbfbf; text-decoration-color: #7fbfbf\">           </span><span style=\"color: #000080; text-decoration-color: #000080\">INFO    </span> concatenated inputs enabled, concatenating <span style=\"color: #000080; text-decoration-color: #000080; font-weight: bold\">4</span> steps.      <a href=\"file:///Users/alizaidi-msft/Documents/bonsai/datadrivenmodel/dataclass.py\"><span style=\"color: #7f7f7f; text-decoration-color: #7f7f7f\">dataclass.py</span></a><span style=\"color: #7f7f7f; text-decoration-color: #7f7f7f\">:746</span>\n",
       "                    zero_padding: <span style=\"color: #00ff00; text-decoration-color: #00ff00; font-style: italic\">True</span>. no rows have been lost.                              \n",
       "</pre>\n"
      ],
      "text/plain": [
       "<rich.jupyter.JupyterRenderable at 0x7f8b08729850>"
      ]
     },
     "metadata": {},
     "output_type": "display_data"
    },
    {
     "data": {
      "text/html": [
       "<pre style=\"white-space:pre;overflow-x:auto;line-height:normal;font-family:Menlo,'DejaVu Sans Mono',consolas,'Courier New',monospace\"><span style=\"color: #7fbfbf; text-decoration-color: #7fbfbf\">           </span><span style=\"color: #000080; text-decoration-color: #000080\">INFO    </span> concatenated inputs enabled, concatenating <span style=\"color: #000080; text-decoration-color: #000080; font-weight: bold\">4</span> steps.      <a href=\"file:///Users/alizaidi-msft/Documents/bonsai/datadrivenmodel/dataclass.py\"><span style=\"color: #7f7f7f; text-decoration-color: #7f7f7f\">dataclass.py</span></a><span style=\"color: #7f7f7f; text-decoration-color: #7f7f7f\">:746</span>\n",
       "                    zero_padding: <span style=\"color: #00ff00; text-decoration-color: #00ff00; font-style: italic\">True</span>. no rows have been lost.                              \n",
       "</pre>\n"
      ],
      "text/plain": [
       "<rich.jupyter.JupyterRenderable at 0x7f8b087298d0>"
      ]
     },
     "metadata": {},
     "output_type": "display_data"
    },
    {
     "data": {
      "text/html": [
       "<pre style=\"white-space:pre;overflow-x:auto;line-height:normal;font-family:Menlo,'DejaVu Sans Mono',consolas,'Courier New',monospace\"><span style=\"color: #7fbfbf; text-decoration-color: #7fbfbf\">           </span><span style=\"color: #000080; text-decoration-color: #000080\">INFO    </span> concatenated inputs enabled, concatenating <span style=\"color: #000080; text-decoration-color: #000080; font-weight: bold\">4</span> steps.      <a href=\"file:///Users/alizaidi-msft/Documents/bonsai/datadrivenmodel/dataclass.py\"><span style=\"color: #7f7f7f; text-decoration-color: #7f7f7f\">dataclass.py</span></a><span style=\"color: #7f7f7f; text-decoration-color: #7f7f7f\">:746</span>\n",
       "                    zero_padding: <span style=\"color: #00ff00; text-decoration-color: #00ff00; font-style: italic\">True</span>. no rows have been lost.                              \n",
       "</pre>\n"
      ],
      "text/plain": [
       "<rich.jupyter.JupyterRenderable at 0x7f8b08729a10>"
      ]
     },
     "metadata": {},
     "output_type": "display_data"
    },
    {
     "data": {
      "text/html": [
       "<pre style=\"white-space:pre;overflow-x:auto;line-height:normal;font-family:Menlo,'DejaVu Sans Mono',consolas,'Courier New',monospace\"><span style=\"color: #7fbfbf; text-decoration-color: #7fbfbf\">           </span><span style=\"color: #000080; text-decoration-color: #000080\">INFO    </span> concatenated inputs enabled, concatenating <span style=\"color: #000080; text-decoration-color: #000080; font-weight: bold\">4</span> steps.      <a href=\"file:///Users/alizaidi-msft/Documents/bonsai/datadrivenmodel/dataclass.py\"><span style=\"color: #7f7f7f; text-decoration-color: #7f7f7f\">dataclass.py</span></a><span style=\"color: #7f7f7f; text-decoration-color: #7f7f7f\">:746</span>\n",
       "                    zero_padding: <span style=\"color: #00ff00; text-decoration-color: #00ff00; font-style: italic\">True</span>. no rows have been lost.                              \n",
       "</pre>\n"
      ],
      "text/plain": [
       "<rich.jupyter.JupyterRenderable at 0x7f8b08729ad0>"
      ]
     },
     "metadata": {},
     "output_type": "display_data"
    },
    {
     "data": {
      "text/html": [
       "<pre style=\"white-space:pre;overflow-x:auto;line-height:normal;font-family:Menlo,'DejaVu Sans Mono',consolas,'Courier New',monospace\"><span style=\"color: #7fbfbf; text-decoration-color: #7fbfbf\">           </span><span style=\"color: #000080; text-decoration-color: #000080\">INFO    </span> concatenated inputs enabled, concatenating <span style=\"color: #000080; text-decoration-color: #000080; font-weight: bold\">4</span> steps.      <a href=\"file:///Users/alizaidi-msft/Documents/bonsai/datadrivenmodel/dataclass.py\"><span style=\"color: #7f7f7f; text-decoration-color: #7f7f7f\">dataclass.py</span></a><span style=\"color: #7f7f7f; text-decoration-color: #7f7f7f\">:746</span>\n",
       "                    zero_padding: <span style=\"color: #00ff00; text-decoration-color: #00ff00; font-style: italic\">True</span>. no rows have been lost.                              \n",
       "</pre>\n"
      ],
      "text/plain": [
       "<rich.jupyter.JupyterRenderable at 0x7f8b1096ea10>"
      ]
     },
     "metadata": {},
     "output_type": "display_data"
    },
    {
     "data": {
      "text/html": [
       "<pre style=\"white-space:pre;overflow-x:auto;line-height:normal;font-family:Menlo,'DejaVu Sans Mono',consolas,'Courier New',monospace\"><span style=\"color: #7fbfbf; text-decoration-color: #7fbfbf\">           </span><span style=\"color: #000080; text-decoration-color: #000080\">INFO    </span> concatenated inputs enabled, concatenating <span style=\"color: #000080; text-decoration-color: #000080; font-weight: bold\">4</span> steps.      <a href=\"file:///Users/alizaidi-msft/Documents/bonsai/datadrivenmodel/dataclass.py\"><span style=\"color: #7f7f7f; text-decoration-color: #7f7f7f\">dataclass.py</span></a><span style=\"color: #7f7f7f; text-decoration-color: #7f7f7f\">:746</span>\n",
       "                    zero_padding: <span style=\"color: #00ff00; text-decoration-color: #00ff00; font-style: italic\">True</span>. no rows have been lost.                              \n",
       "</pre>\n"
      ],
      "text/plain": [
       "<rich.jupyter.JupyterRenderable at 0x7f8b1096ecd0>"
      ]
     },
     "metadata": {},
     "output_type": "display_data"
    },
    {
     "data": {
      "text/html": [
       "<pre style=\"white-space:pre;overflow-x:auto;line-height:normal;font-family:Menlo,'DejaVu Sans Mono',consolas,'Courier New',monospace\"><span style=\"color: #7fbfbf; text-decoration-color: #7fbfbf\">           </span><span style=\"color: #000080; text-decoration-color: #000080\">INFO    </span> concatenated inputs enabled, concatenating <span style=\"color: #000080; text-decoration-color: #000080; font-weight: bold\">4</span> steps.      <a href=\"file:///Users/alizaidi-msft/Documents/bonsai/datadrivenmodel/dataclass.py\"><span style=\"color: #7f7f7f; text-decoration-color: #7f7f7f\">dataclass.py</span></a><span style=\"color: #7f7f7f; text-decoration-color: #7f7f7f\">:746</span>\n",
       "                    zero_padding: <span style=\"color: #00ff00; text-decoration-color: #00ff00; font-style: italic\">True</span>. no rows have been lost.                              \n",
       "</pre>\n"
      ],
      "text/plain": [
       "<rich.jupyter.JupyterRenderable at 0x7f8b1096e350>"
      ]
     },
     "metadata": {},
     "output_type": "display_data"
    },
    {
     "data": {
      "text/html": [
       "<pre style=\"white-space:pre;overflow-x:auto;line-height:normal;font-family:Menlo,'DejaVu Sans Mono',consolas,'Courier New',monospace\"><span style=\"color: #7fbfbf; text-decoration-color: #7fbfbf\">           </span><span style=\"color: #000080; text-decoration-color: #000080\">INFO    </span> concatenated inputs enabled, concatenating <span style=\"color: #000080; text-decoration-color: #000080; font-weight: bold\">4</span> steps.      <a href=\"file:///Users/alizaidi-msft/Documents/bonsai/datadrivenmodel/dataclass.py\"><span style=\"color: #7f7f7f; text-decoration-color: #7f7f7f\">dataclass.py</span></a><span style=\"color: #7f7f7f; text-decoration-color: #7f7f7f\">:746</span>\n",
       "                    zero_padding: <span style=\"color: #00ff00; text-decoration-color: #00ff00; font-style: italic\">True</span>. no rows have been lost.                              \n",
       "</pre>\n"
      ],
      "text/plain": [
       "<rich.jupyter.JupyterRenderable at 0x7f8b1096e4d0>"
      ]
     },
     "metadata": {},
     "output_type": "display_data"
    },
    {
     "data": {
      "text/html": [
       "<pre style=\"white-space:pre;overflow-x:auto;line-height:normal;font-family:Menlo,'DejaVu Sans Mono',consolas,'Courier New',monospace\"><span style=\"color: #7fbfbf; text-decoration-color: #7fbfbf\">           </span><span style=\"color: #000080; text-decoration-color: #000080\">INFO    </span> concatenated inputs enabled, concatenating <span style=\"color: #000080; text-decoration-color: #000080; font-weight: bold\">4</span> steps.      <a href=\"file:///Users/alizaidi-msft/Documents/bonsai/datadrivenmodel/dataclass.py\"><span style=\"color: #7f7f7f; text-decoration-color: #7f7f7f\">dataclass.py</span></a><span style=\"color: #7f7f7f; text-decoration-color: #7f7f7f\">:746</span>\n",
       "                    zero_padding: <span style=\"color: #00ff00; text-decoration-color: #00ff00; font-style: italic\">True</span>. no rows have been lost.                              \n",
       "</pre>\n"
      ],
      "text/plain": [
       "<rich.jupyter.JupyterRenderable at 0x7f8b1096ec90>"
      ]
     },
     "metadata": {},
     "output_type": "display_data"
    },
    {
     "data": {
      "text/html": [
       "<pre style=\"white-space:pre;overflow-x:auto;line-height:normal;font-family:Menlo,'DejaVu Sans Mono',consolas,'Courier New',monospace\"><span style=\"color: #7fbfbf; text-decoration-color: #7fbfbf\">           </span><span style=\"color: #000080; text-decoration-color: #000080\">INFO    </span> concatenated inputs enabled, concatenating <span style=\"color: #000080; text-decoration-color: #000080; font-weight: bold\">4</span> steps.      <a href=\"file:///Users/alizaidi-msft/Documents/bonsai/datadrivenmodel/dataclass.py\"><span style=\"color: #7f7f7f; text-decoration-color: #7f7f7f\">dataclass.py</span></a><span style=\"color: #7f7f7f; text-decoration-color: #7f7f7f\">:746</span>\n",
       "                    zero_padding: <span style=\"color: #00ff00; text-decoration-color: #00ff00; font-style: italic\">True</span>. no rows have been lost.                              \n",
       "</pre>\n"
      ],
      "text/plain": [
       "<rich.jupyter.JupyterRenderable at 0x7f8b08729610>"
      ]
     },
     "metadata": {},
     "output_type": "display_data"
    },
    {
     "data": {
      "text/html": [
       "<pre style=\"white-space:pre;overflow-x:auto;line-height:normal;font-family:Menlo,'DejaVu Sans Mono',consolas,'Courier New',monospace\"><span style=\"color: #7fbfbf; text-decoration-color: #7fbfbf\">           </span><span style=\"color: #000080; text-decoration-color: #000080\">INFO    </span> concatenated inputs enabled, concatenating <span style=\"color: #000080; text-decoration-color: #000080; font-weight: bold\">4</span> steps.      <a href=\"file:///Users/alizaidi-msft/Documents/bonsai/datadrivenmodel/dataclass.py\"><span style=\"color: #7f7f7f; text-decoration-color: #7f7f7f\">dataclass.py</span></a><span style=\"color: #7f7f7f; text-decoration-color: #7f7f7f\">:746</span>\n",
       "                    zero_padding: <span style=\"color: #00ff00; text-decoration-color: #00ff00; font-style: italic\">True</span>. no rows have been lost.                              \n",
       "</pre>\n"
      ],
      "text/plain": [
       "<rich.jupyter.JupyterRenderable at 0x7f8b1098eb50>"
      ]
     },
     "metadata": {},
     "output_type": "display_data"
    },
    {
     "data": {
      "text/html": [
       "<pre style=\"white-space:pre;overflow-x:auto;line-height:normal;font-family:Menlo,'DejaVu Sans Mono',consolas,'Courier New',monospace\"><span style=\"color: #7fbfbf; text-decoration-color: #7fbfbf\">           </span><span style=\"color: #000080; text-decoration-color: #000080\">INFO    </span> concatenated inputs enabled, concatenating <span style=\"color: #000080; text-decoration-color: #000080; font-weight: bold\">4</span> steps.      <a href=\"file:///Users/alizaidi-msft/Documents/bonsai/datadrivenmodel/dataclass.py\"><span style=\"color: #7f7f7f; text-decoration-color: #7f7f7f\">dataclass.py</span></a><span style=\"color: #7f7f7f; text-decoration-color: #7f7f7f\">:746</span>\n",
       "                    zero_padding: <span style=\"color: #00ff00; text-decoration-color: #00ff00; font-style: italic\">True</span>. no rows have been lost.                              \n",
       "</pre>\n"
      ],
      "text/plain": [
       "<rich.jupyter.JupyterRenderable at 0x7f8b1098e610>"
      ]
     },
     "metadata": {},
     "output_type": "display_data"
    },
    {
     "data": {
      "text/html": [
       "<pre style=\"white-space:pre;overflow-x:auto;line-height:normal;font-family:Menlo,'DejaVu Sans Mono',consolas,'Courier New',monospace\"><span style=\"color: #7fbfbf; text-decoration-color: #7fbfbf\">           </span><span style=\"color: #000080; text-decoration-color: #000080\">INFO    </span> concatenated inputs enabled, concatenating <span style=\"color: #000080; text-decoration-color: #000080; font-weight: bold\">4</span> steps.      <a href=\"file:///Users/alizaidi-msft/Documents/bonsai/datadrivenmodel/dataclass.py\"><span style=\"color: #7f7f7f; text-decoration-color: #7f7f7f\">dataclass.py</span></a><span style=\"color: #7f7f7f; text-decoration-color: #7f7f7f\">:746</span>\n",
       "                    zero_padding: <span style=\"color: #00ff00; text-decoration-color: #00ff00; font-style: italic\">True</span>. no rows have been lost.                              \n",
       "</pre>\n"
      ],
      "text/plain": [
       "<rich.jupyter.JupyterRenderable at 0x7f8b1098ea10>"
      ]
     },
     "metadata": {},
     "output_type": "display_data"
    },
    {
     "data": {
      "text/html": [
       "<pre style=\"white-space:pre;overflow-x:auto;line-height:normal;font-family:Menlo,'DejaVu Sans Mono',consolas,'Courier New',monospace\"><span style=\"color: #7fbfbf; text-decoration-color: #7fbfbf\">           </span><span style=\"color: #000080; text-decoration-color: #000080\">INFO    </span> concatenated inputs enabled, concatenating <span style=\"color: #000080; text-decoration-color: #000080; font-weight: bold\">4</span> steps.      <a href=\"file:///Users/alizaidi-msft/Documents/bonsai/datadrivenmodel/dataclass.py\"><span style=\"color: #7f7f7f; text-decoration-color: #7f7f7f\">dataclass.py</span></a><span style=\"color: #7f7f7f; text-decoration-color: #7f7f7f\">:746</span>\n",
       "                    zero_padding: <span style=\"color: #00ff00; text-decoration-color: #00ff00; font-style: italic\">True</span>. no rows have been lost.                              \n",
       "</pre>\n"
      ],
      "text/plain": [
       "<rich.jupyter.JupyterRenderable at 0x7f8b1098e3d0>"
      ]
     },
     "metadata": {},
     "output_type": "display_data"
    },
    {
     "data": {
      "text/html": [
       "<pre style=\"white-space:pre;overflow-x:auto;line-height:normal;font-family:Menlo,'DejaVu Sans Mono',consolas,'Courier New',monospace\"><span style=\"color: #7fbfbf; text-decoration-color: #7fbfbf\">           </span><span style=\"color: #000080; text-decoration-color: #000080\">INFO    </span> concatenated inputs enabled, concatenating <span style=\"color: #000080; text-decoration-color: #000080; font-weight: bold\">4</span> steps.      <a href=\"file:///Users/alizaidi-msft/Documents/bonsai/datadrivenmodel/dataclass.py\"><span style=\"color: #7f7f7f; text-decoration-color: #7f7f7f\">dataclass.py</span></a><span style=\"color: #7f7f7f; text-decoration-color: #7f7f7f\">:746</span>\n",
       "                    zero_padding: <span style=\"color: #00ff00; text-decoration-color: #00ff00; font-style: italic\">True</span>. no rows have been lost.                              \n",
       "</pre>\n"
      ],
      "text/plain": [
       "<rich.jupyter.JupyterRenderable at 0x7f8b1098ea10>"
      ]
     },
     "metadata": {},
     "output_type": "display_data"
    },
    {
     "data": {
      "text/html": [
       "<pre style=\"white-space:pre;overflow-x:auto;line-height:normal;font-family:Menlo,'DejaVu Sans Mono',consolas,'Courier New',monospace\"><span style=\"color: #7fbfbf; text-decoration-color: #7fbfbf\">           </span><span style=\"color: #000080; text-decoration-color: #000080\">INFO    </span> concatenated inputs enabled, concatenating <span style=\"color: #000080; text-decoration-color: #000080; font-weight: bold\">4</span> steps.      <a href=\"file:///Users/alizaidi-msft/Documents/bonsai/datadrivenmodel/dataclass.py\"><span style=\"color: #7f7f7f; text-decoration-color: #7f7f7f\">dataclass.py</span></a><span style=\"color: #7f7f7f; text-decoration-color: #7f7f7f\">:746</span>\n",
       "                    zero_padding: <span style=\"color: #00ff00; text-decoration-color: #00ff00; font-style: italic\">True</span>. no rows have been lost.                              \n",
       "</pre>\n"
      ],
      "text/plain": [
       "<rich.jupyter.JupyterRenderable at 0x7f8b1096ed10>"
      ]
     },
     "metadata": {},
     "output_type": "display_data"
    },
    {
     "data": {
      "text/html": [
       "<pre style=\"white-space:pre;overflow-x:auto;line-height:normal;font-family:Menlo,'DejaVu Sans Mono',consolas,'Courier New',monospace\"><span style=\"color: #7fbfbf; text-decoration-color: #7fbfbf\">           </span><span style=\"color: #000080; text-decoration-color: #000080\">INFO    </span> concatenated inputs enabled, concatenating <span style=\"color: #000080; text-decoration-color: #000080; font-weight: bold\">4</span> steps.      <a href=\"file:///Users/alizaidi-msft/Documents/bonsai/datadrivenmodel/dataclass.py\"><span style=\"color: #7f7f7f; text-decoration-color: #7f7f7f\">dataclass.py</span></a><span style=\"color: #7f7f7f; text-decoration-color: #7f7f7f\">:746</span>\n",
       "                    zero_padding: <span style=\"color: #00ff00; text-decoration-color: #00ff00; font-style: italic\">True</span>. no rows have been lost.                              \n",
       "</pre>\n"
      ],
      "text/plain": [
       "<rich.jupyter.JupyterRenderable at 0x7f8b487cbc10>"
      ]
     },
     "metadata": {},
     "output_type": "display_data"
    },
    {
     "data": {
      "text/html": [
       "<pre style=\"white-space:pre;overflow-x:auto;line-height:normal;font-family:Menlo,'DejaVu Sans Mono',consolas,'Courier New',monospace\"><span style=\"color: #7fbfbf; text-decoration-color: #7fbfbf\">           </span><span style=\"color: #000080; text-decoration-color: #000080\">INFO    </span> concatenated inputs enabled, concatenating <span style=\"color: #000080; text-decoration-color: #000080; font-weight: bold\">4</span> steps.      <a href=\"file:///Users/alizaidi-msft/Documents/bonsai/datadrivenmodel/dataclass.py\"><span style=\"color: #7f7f7f; text-decoration-color: #7f7f7f\">dataclass.py</span></a><span style=\"color: #7f7f7f; text-decoration-color: #7f7f7f\">:746</span>\n",
       "                    zero_padding: <span style=\"color: #00ff00; text-decoration-color: #00ff00; font-style: italic\">True</span>. no rows have been lost.                              \n",
       "</pre>\n"
      ],
      "text/plain": [
       "<rich.jupyter.JupyterRenderable at 0x7f8b487cbc10>"
      ]
     },
     "metadata": {},
     "output_type": "display_data"
    },
    {
     "data": {
      "text/html": [
       "<pre style=\"white-space:pre;overflow-x:auto;line-height:normal;font-family:Menlo,'DejaVu Sans Mono',consolas,'Courier New',monospace\"><span style=\"color: #7fbfbf; text-decoration-color: #7fbfbf\">           </span><span style=\"color: #000080; text-decoration-color: #000080\">INFO    </span> concatenated inputs enabled, concatenating <span style=\"color: #000080; text-decoration-color: #000080; font-weight: bold\">4</span> steps.      <a href=\"file:///Users/alizaidi-msft/Documents/bonsai/datadrivenmodel/dataclass.py\"><span style=\"color: #7f7f7f; text-decoration-color: #7f7f7f\">dataclass.py</span></a><span style=\"color: #7f7f7f; text-decoration-color: #7f7f7f\">:746</span>\n",
       "                    zero_padding: <span style=\"color: #00ff00; text-decoration-color: #00ff00; font-style: italic\">True</span>. no rows have been lost.                              \n",
       "</pre>\n"
      ],
      "text/plain": [
       "<rich.jupyter.JupyterRenderable at 0x7f8b487cb410>"
      ]
     },
     "metadata": {},
     "output_type": "display_data"
    },
    {
     "data": {
      "text/html": [
       "<pre style=\"white-space:pre;overflow-x:auto;line-height:normal;font-family:Menlo,'DejaVu Sans Mono',consolas,'Courier New',monospace\"><span style=\"color: #7fbfbf; text-decoration-color: #7fbfbf\">           </span><span style=\"color: #000080; text-decoration-color: #000080\">INFO    </span> concatenated inputs enabled, concatenating <span style=\"color: #000080; text-decoration-color: #000080; font-weight: bold\">4</span> steps.      <a href=\"file:///Users/alizaidi-msft/Documents/bonsai/datadrivenmodel/dataclass.py\"><span style=\"color: #7f7f7f; text-decoration-color: #7f7f7f\">dataclass.py</span></a><span style=\"color: #7f7f7f; text-decoration-color: #7f7f7f\">:746</span>\n",
       "                    zero_padding: <span style=\"color: #00ff00; text-decoration-color: #00ff00; font-style: italic\">True</span>. no rows have been lost.                              \n",
       "</pre>\n"
      ],
      "text/plain": [
       "<rich.jupyter.JupyterRenderable at 0x7f8b487cbe90>"
      ]
     },
     "metadata": {},
     "output_type": "display_data"
    },
    {
     "data": {
      "text/html": [
       "<pre style=\"white-space:pre;overflow-x:auto;line-height:normal;font-family:Menlo,'DejaVu Sans Mono',consolas,'Courier New',monospace\"><span style=\"color: #7fbfbf; text-decoration-color: #7fbfbf\">           </span><span style=\"color: #000080; text-decoration-color: #000080\">INFO    </span> concatenated inputs enabled, concatenating <span style=\"color: #000080; text-decoration-color: #000080; font-weight: bold\">4</span> steps.      <a href=\"file:///Users/alizaidi-msft/Documents/bonsai/datadrivenmodel/dataclass.py\"><span style=\"color: #7f7f7f; text-decoration-color: #7f7f7f\">dataclass.py</span></a><span style=\"color: #7f7f7f; text-decoration-color: #7f7f7f\">:746</span>\n",
       "                    zero_padding: <span style=\"color: #00ff00; text-decoration-color: #00ff00; font-style: italic\">True</span>. no rows have been lost.                              \n",
       "</pre>\n"
      ],
      "text/plain": [
       "<rich.jupyter.JupyterRenderable at 0x7f8b487cba50>"
      ]
     },
     "metadata": {},
     "output_type": "display_data"
    },
    {
     "data": {
      "text/html": [
       "<pre style=\"white-space:pre;overflow-x:auto;line-height:normal;font-family:Menlo,'DejaVu Sans Mono',consolas,'Courier New',monospace\"><span style=\"color: #7fbfbf; text-decoration-color: #7fbfbf\">           </span><span style=\"color: #000080; text-decoration-color: #000080\">INFO    </span> divided train &amp; test set with <span style=\"font-weight: bold\">(</span><span style=\"color: #000080; text-decoration-color: #000080; font-weight: bold\">4165</span><span style=\"font-weight: bold\">)</span> and <span style=\"font-weight: bold\">(</span><span style=\"color: #000080; text-decoration-color: #000080; font-weight: bold\">735</span><span style=\"font-weight: bold\">)</span>           <a href=\"file:///Users/alizaidi-msft/Documents/bonsai/datadrivenmodel/dataclass.py\"><span style=\"color: #7f7f7f; text-decoration-color: #7f7f7f\">dataclass.py</span></a><span style=\"color: #7f7f7f; text-decoration-color: #7f7f7f\">:418</span>\n",
       "                    iterations, respectively. Chosen split == <span style=\"color: #000080; text-decoration-color: #000080; font-weight: bold\">85.0</span>%.                         \n",
       "                       &gt;&gt; Average episode length: <span style=\"font-weight: bold\">(</span><span style=\"color: #000080; text-decoration-color: #000080; font-weight: bold\">49.0</span><span style=\"font-weight: bold\">)</span>. Average std dev:                   \n",
       "                    <span style=\"font-weight: bold\">(</span><span style=\"color: #000080; text-decoration-color: #000080; font-weight: bold\">0.0</span><span style=\"font-weight: bold\">)</span>                                                                    \n",
       "</pre>\n"
      ],
      "text/plain": [
       "<rich.jupyter.JupyterRenderable at 0x7f8b38f37950>"
      ]
     },
     "metadata": {},
     "output_type": "display_data"
    },
    {
     "data": {
      "text/html": [
       "<pre style=\"white-space:pre;overflow-x:auto;line-height:normal;font-family:Menlo,'DejaVu Sans Mono',consolas,'Courier New',monospace\"><span style=\"color: #7fbfbf; text-decoration-color: #7fbfbf\">           </span><span style=\"color: #000080; text-decoration-color: #000080\">INFO    </span> Fitting model<span style=\"color: #808000; text-decoration-color: #808000\">...</span>                        <a href=\"file://<ipython-input-9-945761283b65>\"><span style=\"color: #7f7f7f; text-decoration-color: #7f7f7f\">&lt;ipython-input-9-945761283b65&gt;</span></a><span style=\"color: #7f7f7f; text-decoration-color: #7f7f7f\">:25</span>\n",
       "</pre>\n"
      ],
      "text/plain": [
       "<rich.jupyter.JupyterRenderable at 0x7f8b38edfd90>"
      ]
     },
     "metadata": {},
     "output_type": "display_data"
    },
    {
     "ename": "LightGBMError",
     "evalue": "Check failed: (best_split_info.right_count) > (0) at /Users/runner/work/1/s/python-package/compile/src/treelearner/serial_tree_learner.cpp, line 661 .\n",
     "output_type": "error",
     "traceback": [
      "\u001b[0;31m---------------------------------------------------------------------------\u001b[0m",
      "\u001b[0;31mLightGBMError\u001b[0m                             Traceback (most recent call last)",
      "\u001b[0;32m<ipython-input-10-2234e71ab37e>\u001b[0m in \u001b[0;36m<module>\u001b[0;34m\u001b[0m\n\u001b[0;32m----> 1\u001b[0;31m \u001b[0mmodel\u001b[0m \u001b[0;34m=\u001b[0m \u001b[0mtrain_models\u001b[0m\u001b[0;34m(\u001b[0m\u001b[0mcfg\u001b[0m\u001b[0;34m)\u001b[0m\u001b[0;34m\u001b[0m\u001b[0;34m\u001b[0m\u001b[0m\n\u001b[0m",
      "\u001b[0;32m<ipython-input-9-945761283b65>\u001b[0m in \u001b[0;36mtrain_models\u001b[0;34m(config)\u001b[0m\n\u001b[1;32m     24\u001b[0m \u001b[0;34m\u001b[0m\u001b[0m\n\u001b[1;32m     25\u001b[0m     \u001b[0mlogger\u001b[0m\u001b[0;34m.\u001b[0m\u001b[0minfo\u001b[0m\u001b[0;34m(\u001b[0m\u001b[0;34mf\"Fitting model...\"\u001b[0m\u001b[0;34m)\u001b[0m\u001b[0;34m\u001b[0m\u001b[0;34m\u001b[0m\u001b[0m\n\u001b[0;32m---> 26\u001b[0;31m     \u001b[0mmodel\u001b[0m\u001b[0;34m.\u001b[0m\u001b[0mfit\u001b[0m\u001b[0;34m(\u001b[0m\u001b[0mX\u001b[0m\u001b[0;34m,\u001b[0m \u001b[0my\u001b[0m\u001b[0;34m)\u001b[0m\u001b[0;34m\u001b[0m\u001b[0;34m\u001b[0m\u001b[0m\n\u001b[0m\u001b[1;32m     27\u001b[0m     \u001b[0mlogger\u001b[0m\u001b[0;34m.\u001b[0m\u001b[0minfo\u001b[0m\u001b[0;34m(\u001b[0m\u001b[0;34mf\"Model trained!\"\u001b[0m\u001b[0;34m)\u001b[0m\u001b[0;34m\u001b[0m\u001b[0;34m\u001b[0m\u001b[0m\n\u001b[1;32m     28\u001b[0m \u001b[0;34m\u001b[0m\u001b[0m\n",
      "\u001b[0;32m~/Documents/bonsai/datadrivenmodel/gboost_models.py\u001b[0m in \u001b[0;36mfit\u001b[0;34m(self, X, y, fit_separate)\u001b[0m\n\u001b[1;32m     84\u001b[0m                 \u001b[0mself\u001b[0m\u001b[0;34m.\u001b[0m\u001b[0mmodels\u001b[0m\u001b[0;34m.\u001b[0m\u001b[0mappend\u001b[0m\u001b[0;34m(\u001b[0m\u001b[0mboost_model\u001b[0m\u001b[0;34m.\u001b[0m\u001b[0mfit\u001b[0m\u001b[0;34m(\u001b[0m\u001b[0mX\u001b[0m\u001b[0;34m,\u001b[0m \u001b[0my\u001b[0m\u001b[0;34m[\u001b[0m\u001b[0;34m:\u001b[0m\u001b[0;34m,\u001b[0m \u001b[0mi\u001b[0m\u001b[0;34m]\u001b[0m\u001b[0;34m)\u001b[0m\u001b[0;34m)\u001b[0m\u001b[0;34m\u001b[0m\u001b[0;34m\u001b[0m\u001b[0m\n\u001b[1;32m     85\u001b[0m         \u001b[0;32melse\u001b[0m\u001b[0;34m:\u001b[0m\u001b[0;34m\u001b[0m\u001b[0;34m\u001b[0m\u001b[0m\n\u001b[0;32m---> 86\u001b[0;31m             \u001b[0mself\u001b[0m\u001b[0;34m.\u001b[0m\u001b[0mmodel\u001b[0m\u001b[0;34m.\u001b[0m\u001b[0mfit\u001b[0m\u001b[0;34m(\u001b[0m\u001b[0mX\u001b[0m\u001b[0;34m,\u001b[0m \u001b[0my\u001b[0m\u001b[0;34m)\u001b[0m\u001b[0;34m\u001b[0m\u001b[0;34m\u001b[0m\u001b[0m\n\u001b[0m\u001b[1;32m     87\u001b[0m \u001b[0;34m\u001b[0m\u001b[0m\n\u001b[1;32m     88\u001b[0m     \u001b[0;32mdef\u001b[0m \u001b[0mpartial_fit\u001b[0m\u001b[0;34m(\u001b[0m\u001b[0mself\u001b[0m\u001b[0;34m,\u001b[0m \u001b[0mX\u001b[0m\u001b[0;34m,\u001b[0m \u001b[0my\u001b[0m\u001b[0;34m)\u001b[0m\u001b[0;34m:\u001b[0m\u001b[0;34m\u001b[0m\u001b[0;34m\u001b[0m\u001b[0m\n",
      "\u001b[0;32m~/miniconda3/envs/ddm2/lib/python3.7/site-packages/sklearn/multioutput.py\u001b[0m in \u001b[0;36mfit\u001b[0;34m(self, X, y, sample_weight, **fit_params)\u001b[0m\n\u001b[1;32m    174\u001b[0m                 \u001b[0mself\u001b[0m\u001b[0;34m.\u001b[0m\u001b[0mestimator\u001b[0m\u001b[0;34m,\u001b[0m \u001b[0mX\u001b[0m\u001b[0;34m,\u001b[0m \u001b[0my\u001b[0m\u001b[0;34m[\u001b[0m\u001b[0;34m:\u001b[0m\u001b[0;34m,\u001b[0m \u001b[0mi\u001b[0m\u001b[0;34m]\u001b[0m\u001b[0;34m,\u001b[0m \u001b[0msample_weight\u001b[0m\u001b[0;34m,\u001b[0m\u001b[0;34m\u001b[0m\u001b[0;34m\u001b[0m\u001b[0m\n\u001b[1;32m    175\u001b[0m                 **fit_params_validated)\n\u001b[0;32m--> 176\u001b[0;31m             for i in range(y.shape[1]))\n\u001b[0m\u001b[1;32m    177\u001b[0m         \u001b[0;32mreturn\u001b[0m \u001b[0mself\u001b[0m\u001b[0;34m\u001b[0m\u001b[0;34m\u001b[0m\u001b[0m\n\u001b[1;32m    178\u001b[0m \u001b[0;34m\u001b[0m\u001b[0m\n",
      "\u001b[0;32m~/miniconda3/envs/ddm2/lib/python3.7/site-packages/joblib/parallel.py\u001b[0m in \u001b[0;36m__call__\u001b[0;34m(self, iterable)\u001b[0m\n\u001b[1;32m   1046\u001b[0m             \u001b[0;31m# remaining jobs.\u001b[0m\u001b[0;34m\u001b[0m\u001b[0;34m\u001b[0m\u001b[0;34m\u001b[0m\u001b[0m\n\u001b[1;32m   1047\u001b[0m             \u001b[0mself\u001b[0m\u001b[0;34m.\u001b[0m\u001b[0m_iterating\u001b[0m \u001b[0;34m=\u001b[0m \u001b[0;32mFalse\u001b[0m\u001b[0;34m\u001b[0m\u001b[0;34m\u001b[0m\u001b[0m\n\u001b[0;32m-> 1048\u001b[0;31m             \u001b[0;32mif\u001b[0m \u001b[0mself\u001b[0m\u001b[0;34m.\u001b[0m\u001b[0mdispatch_one_batch\u001b[0m\u001b[0;34m(\u001b[0m\u001b[0miterator\u001b[0m\u001b[0;34m)\u001b[0m\u001b[0;34m:\u001b[0m\u001b[0;34m\u001b[0m\u001b[0;34m\u001b[0m\u001b[0m\n\u001b[0m\u001b[1;32m   1049\u001b[0m                 \u001b[0mself\u001b[0m\u001b[0;34m.\u001b[0m\u001b[0m_iterating\u001b[0m \u001b[0;34m=\u001b[0m \u001b[0mself\u001b[0m\u001b[0;34m.\u001b[0m\u001b[0m_original_iterator\u001b[0m \u001b[0;32mis\u001b[0m \u001b[0;32mnot\u001b[0m \u001b[0;32mNone\u001b[0m\u001b[0;34m\u001b[0m\u001b[0;34m\u001b[0m\u001b[0m\n\u001b[1;32m   1050\u001b[0m \u001b[0;34m\u001b[0m\u001b[0m\n",
      "\u001b[0;32m~/miniconda3/envs/ddm2/lib/python3.7/site-packages/joblib/parallel.py\u001b[0m in \u001b[0;36mdispatch_one_batch\u001b[0;34m(self, iterator)\u001b[0m\n\u001b[1;32m    864\u001b[0m                 \u001b[0;32mreturn\u001b[0m \u001b[0;32mFalse\u001b[0m\u001b[0;34m\u001b[0m\u001b[0;34m\u001b[0m\u001b[0m\n\u001b[1;32m    865\u001b[0m             \u001b[0;32melse\u001b[0m\u001b[0;34m:\u001b[0m\u001b[0;34m\u001b[0m\u001b[0;34m\u001b[0m\u001b[0m\n\u001b[0;32m--> 866\u001b[0;31m                 \u001b[0mself\u001b[0m\u001b[0;34m.\u001b[0m\u001b[0m_dispatch\u001b[0m\u001b[0;34m(\u001b[0m\u001b[0mtasks\u001b[0m\u001b[0;34m)\u001b[0m\u001b[0;34m\u001b[0m\u001b[0;34m\u001b[0m\u001b[0m\n\u001b[0m\u001b[1;32m    867\u001b[0m                 \u001b[0;32mreturn\u001b[0m \u001b[0;32mTrue\u001b[0m\u001b[0;34m\u001b[0m\u001b[0;34m\u001b[0m\u001b[0m\n\u001b[1;32m    868\u001b[0m \u001b[0;34m\u001b[0m\u001b[0m\n",
      "\u001b[0;32m~/miniconda3/envs/ddm2/lib/python3.7/site-packages/joblib/parallel.py\u001b[0m in \u001b[0;36m_dispatch\u001b[0;34m(self, batch)\u001b[0m\n\u001b[1;32m    782\u001b[0m         \u001b[0;32mwith\u001b[0m \u001b[0mself\u001b[0m\u001b[0;34m.\u001b[0m\u001b[0m_lock\u001b[0m\u001b[0;34m:\u001b[0m\u001b[0;34m\u001b[0m\u001b[0;34m\u001b[0m\u001b[0m\n\u001b[1;32m    783\u001b[0m             \u001b[0mjob_idx\u001b[0m \u001b[0;34m=\u001b[0m \u001b[0mlen\u001b[0m\u001b[0;34m(\u001b[0m\u001b[0mself\u001b[0m\u001b[0;34m.\u001b[0m\u001b[0m_jobs\u001b[0m\u001b[0;34m)\u001b[0m\u001b[0;34m\u001b[0m\u001b[0;34m\u001b[0m\u001b[0m\n\u001b[0;32m--> 784\u001b[0;31m             \u001b[0mjob\u001b[0m \u001b[0;34m=\u001b[0m \u001b[0mself\u001b[0m\u001b[0;34m.\u001b[0m\u001b[0m_backend\u001b[0m\u001b[0;34m.\u001b[0m\u001b[0mapply_async\u001b[0m\u001b[0;34m(\u001b[0m\u001b[0mbatch\u001b[0m\u001b[0;34m,\u001b[0m \u001b[0mcallback\u001b[0m\u001b[0;34m=\u001b[0m\u001b[0mcb\u001b[0m\u001b[0;34m)\u001b[0m\u001b[0;34m\u001b[0m\u001b[0;34m\u001b[0m\u001b[0m\n\u001b[0m\u001b[1;32m    785\u001b[0m             \u001b[0;31m# A job can complete so quickly than its callback is\u001b[0m\u001b[0;34m\u001b[0m\u001b[0;34m\u001b[0m\u001b[0;34m\u001b[0m\u001b[0m\n\u001b[1;32m    786\u001b[0m             \u001b[0;31m# called before we get here, causing self._jobs to\u001b[0m\u001b[0;34m\u001b[0m\u001b[0;34m\u001b[0m\u001b[0;34m\u001b[0m\u001b[0m\n",
      "\u001b[0;32m~/miniconda3/envs/ddm2/lib/python3.7/site-packages/joblib/_parallel_backends.py\u001b[0m in \u001b[0;36mapply_async\u001b[0;34m(self, func, callback)\u001b[0m\n\u001b[1;32m    206\u001b[0m     \u001b[0;32mdef\u001b[0m \u001b[0mapply_async\u001b[0m\u001b[0;34m(\u001b[0m\u001b[0mself\u001b[0m\u001b[0;34m,\u001b[0m \u001b[0mfunc\u001b[0m\u001b[0;34m,\u001b[0m \u001b[0mcallback\u001b[0m\u001b[0;34m=\u001b[0m\u001b[0;32mNone\u001b[0m\u001b[0;34m)\u001b[0m\u001b[0;34m:\u001b[0m\u001b[0;34m\u001b[0m\u001b[0;34m\u001b[0m\u001b[0m\n\u001b[1;32m    207\u001b[0m         \u001b[0;34m\"\"\"Schedule a func to be run\"\"\"\u001b[0m\u001b[0;34m\u001b[0m\u001b[0;34m\u001b[0m\u001b[0m\n\u001b[0;32m--> 208\u001b[0;31m         \u001b[0mresult\u001b[0m \u001b[0;34m=\u001b[0m \u001b[0mImmediateResult\u001b[0m\u001b[0;34m(\u001b[0m\u001b[0mfunc\u001b[0m\u001b[0;34m)\u001b[0m\u001b[0;34m\u001b[0m\u001b[0;34m\u001b[0m\u001b[0m\n\u001b[0m\u001b[1;32m    209\u001b[0m         \u001b[0;32mif\u001b[0m \u001b[0mcallback\u001b[0m\u001b[0;34m:\u001b[0m\u001b[0;34m\u001b[0m\u001b[0;34m\u001b[0m\u001b[0m\n\u001b[1;32m    210\u001b[0m             \u001b[0mcallback\u001b[0m\u001b[0;34m(\u001b[0m\u001b[0mresult\u001b[0m\u001b[0;34m)\u001b[0m\u001b[0;34m\u001b[0m\u001b[0;34m\u001b[0m\u001b[0m\n",
      "\u001b[0;32m~/miniconda3/envs/ddm2/lib/python3.7/site-packages/joblib/_parallel_backends.py\u001b[0m in \u001b[0;36m__init__\u001b[0;34m(self, batch)\u001b[0m\n\u001b[1;32m    570\u001b[0m         \u001b[0;31m# Don't delay the application, to avoid keeping the input\u001b[0m\u001b[0;34m\u001b[0m\u001b[0;34m\u001b[0m\u001b[0;34m\u001b[0m\u001b[0m\n\u001b[1;32m    571\u001b[0m         \u001b[0;31m# arguments in memory\u001b[0m\u001b[0;34m\u001b[0m\u001b[0;34m\u001b[0m\u001b[0;34m\u001b[0m\u001b[0m\n\u001b[0;32m--> 572\u001b[0;31m         \u001b[0mself\u001b[0m\u001b[0;34m.\u001b[0m\u001b[0mresults\u001b[0m \u001b[0;34m=\u001b[0m \u001b[0mbatch\u001b[0m\u001b[0;34m(\u001b[0m\u001b[0;34m)\u001b[0m\u001b[0;34m\u001b[0m\u001b[0;34m\u001b[0m\u001b[0m\n\u001b[0m\u001b[1;32m    573\u001b[0m \u001b[0;34m\u001b[0m\u001b[0m\n\u001b[1;32m    574\u001b[0m     \u001b[0;32mdef\u001b[0m \u001b[0mget\u001b[0m\u001b[0;34m(\u001b[0m\u001b[0mself\u001b[0m\u001b[0;34m)\u001b[0m\u001b[0;34m:\u001b[0m\u001b[0;34m\u001b[0m\u001b[0;34m\u001b[0m\u001b[0m\n",
      "\u001b[0;32m~/miniconda3/envs/ddm2/lib/python3.7/site-packages/joblib/parallel.py\u001b[0m in \u001b[0;36m__call__\u001b[0;34m(self)\u001b[0m\n\u001b[1;32m    261\u001b[0m         \u001b[0;32mwith\u001b[0m \u001b[0mparallel_backend\u001b[0m\u001b[0;34m(\u001b[0m\u001b[0mself\u001b[0m\u001b[0;34m.\u001b[0m\u001b[0m_backend\u001b[0m\u001b[0;34m,\u001b[0m \u001b[0mn_jobs\u001b[0m\u001b[0;34m=\u001b[0m\u001b[0mself\u001b[0m\u001b[0;34m.\u001b[0m\u001b[0m_n_jobs\u001b[0m\u001b[0;34m)\u001b[0m\u001b[0;34m:\u001b[0m\u001b[0;34m\u001b[0m\u001b[0;34m\u001b[0m\u001b[0m\n\u001b[1;32m    262\u001b[0m             return [func(*args, **kwargs)\n\u001b[0;32m--> 263\u001b[0;31m                     for func, args, kwargs in self.items]\n\u001b[0m\u001b[1;32m    264\u001b[0m \u001b[0;34m\u001b[0m\u001b[0m\n\u001b[1;32m    265\u001b[0m     \u001b[0;32mdef\u001b[0m \u001b[0m__reduce__\u001b[0m\u001b[0;34m(\u001b[0m\u001b[0mself\u001b[0m\u001b[0;34m)\u001b[0m\u001b[0;34m:\u001b[0m\u001b[0;34m\u001b[0m\u001b[0;34m\u001b[0m\u001b[0m\n",
      "\u001b[0;32m~/miniconda3/envs/ddm2/lib/python3.7/site-packages/joblib/parallel.py\u001b[0m in \u001b[0;36m<listcomp>\u001b[0;34m(.0)\u001b[0m\n\u001b[1;32m    261\u001b[0m         \u001b[0;32mwith\u001b[0m \u001b[0mparallel_backend\u001b[0m\u001b[0;34m(\u001b[0m\u001b[0mself\u001b[0m\u001b[0;34m.\u001b[0m\u001b[0m_backend\u001b[0m\u001b[0;34m,\u001b[0m \u001b[0mn_jobs\u001b[0m\u001b[0;34m=\u001b[0m\u001b[0mself\u001b[0m\u001b[0;34m.\u001b[0m\u001b[0m_n_jobs\u001b[0m\u001b[0;34m)\u001b[0m\u001b[0;34m:\u001b[0m\u001b[0;34m\u001b[0m\u001b[0;34m\u001b[0m\u001b[0m\n\u001b[1;32m    262\u001b[0m             return [func(*args, **kwargs)\n\u001b[0;32m--> 263\u001b[0;31m                     for func, args, kwargs in self.items]\n\u001b[0m\u001b[1;32m    264\u001b[0m \u001b[0;34m\u001b[0m\u001b[0m\n\u001b[1;32m    265\u001b[0m     \u001b[0;32mdef\u001b[0m \u001b[0m__reduce__\u001b[0m\u001b[0;34m(\u001b[0m\u001b[0mself\u001b[0m\u001b[0;34m)\u001b[0m\u001b[0;34m:\u001b[0m\u001b[0;34m\u001b[0m\u001b[0;34m\u001b[0m\u001b[0m\n",
      "\u001b[0;32m~/miniconda3/envs/ddm2/lib/python3.7/site-packages/sklearn/multioutput.py\u001b[0m in \u001b[0;36m_fit_estimator\u001b[0;34m(estimator, X, y, sample_weight, **fit_params)\u001b[0m\n\u001b[1;32m     39\u001b[0m         \u001b[0mestimator\u001b[0m\u001b[0;34m.\u001b[0m\u001b[0mfit\u001b[0m\u001b[0;34m(\u001b[0m\u001b[0mX\u001b[0m\u001b[0;34m,\u001b[0m \u001b[0my\u001b[0m\u001b[0;34m,\u001b[0m \u001b[0msample_weight\u001b[0m\u001b[0;34m=\u001b[0m\u001b[0msample_weight\u001b[0m\u001b[0;34m,\u001b[0m \u001b[0;34m**\u001b[0m\u001b[0mfit_params\u001b[0m\u001b[0;34m)\u001b[0m\u001b[0;34m\u001b[0m\u001b[0;34m\u001b[0m\u001b[0m\n\u001b[1;32m     40\u001b[0m     \u001b[0;32melse\u001b[0m\u001b[0;34m:\u001b[0m\u001b[0;34m\u001b[0m\u001b[0;34m\u001b[0m\u001b[0m\n\u001b[0;32m---> 41\u001b[0;31m         \u001b[0mestimator\u001b[0m\u001b[0;34m.\u001b[0m\u001b[0mfit\u001b[0m\u001b[0;34m(\u001b[0m\u001b[0mX\u001b[0m\u001b[0;34m,\u001b[0m \u001b[0my\u001b[0m\u001b[0;34m,\u001b[0m \u001b[0;34m**\u001b[0m\u001b[0mfit_params\u001b[0m\u001b[0;34m)\u001b[0m\u001b[0;34m\u001b[0m\u001b[0;34m\u001b[0m\u001b[0m\n\u001b[0m\u001b[1;32m     42\u001b[0m     \u001b[0;32mreturn\u001b[0m \u001b[0mestimator\u001b[0m\u001b[0;34m\u001b[0m\u001b[0;34m\u001b[0m\u001b[0m\n\u001b[1;32m     43\u001b[0m \u001b[0;34m\u001b[0m\u001b[0m\n",
      "\u001b[0;32m~/miniconda3/envs/ddm2/lib/python3.7/site-packages/lightgbm/sklearn.py\u001b[0m in \u001b[0;36mfit\u001b[0;34m(self, X, y, sample_weight, init_score, eval_set, eval_names, eval_sample_weight, eval_init_score, eval_metric, early_stopping_rounds, verbose, feature_name, categorical_feature, callbacks, init_model)\u001b[0m\n\u001b[1;32m    777\u001b[0m                                        \u001b[0mverbose\u001b[0m\u001b[0;34m=\u001b[0m\u001b[0mverbose\u001b[0m\u001b[0;34m,\u001b[0m \u001b[0mfeature_name\u001b[0m\u001b[0;34m=\u001b[0m\u001b[0mfeature_name\u001b[0m\u001b[0;34m,\u001b[0m\u001b[0;34m\u001b[0m\u001b[0;34m\u001b[0m\u001b[0m\n\u001b[1;32m    778\u001b[0m                                        \u001b[0mcategorical_feature\u001b[0m\u001b[0;34m=\u001b[0m\u001b[0mcategorical_feature\u001b[0m\u001b[0;34m,\u001b[0m\u001b[0;34m\u001b[0m\u001b[0;34m\u001b[0m\u001b[0m\n\u001b[0;32m--> 779\u001b[0;31m                                        callbacks=callbacks, init_model=init_model)\n\u001b[0m\u001b[1;32m    780\u001b[0m         \u001b[0;32mreturn\u001b[0m \u001b[0mself\u001b[0m\u001b[0;34m\u001b[0m\u001b[0;34m\u001b[0m\u001b[0m\n\u001b[1;32m    781\u001b[0m \u001b[0;34m\u001b[0m\u001b[0m\n",
      "\u001b[0;32m~/miniconda3/envs/ddm2/lib/python3.7/site-packages/lightgbm/sklearn.py\u001b[0m in \u001b[0;36mfit\u001b[0;34m(self, X, y, sample_weight, init_score, group, eval_set, eval_names, eval_sample_weight, eval_class_weight, eval_init_score, eval_group, eval_metric, early_stopping_rounds, verbose, feature_name, categorical_feature, callbacks, init_model)\u001b[0m\n\u001b[1;32m    615\u001b[0m                               \u001b[0mevals_result\u001b[0m\u001b[0;34m=\u001b[0m\u001b[0mevals_result\u001b[0m\u001b[0;34m,\u001b[0m \u001b[0mfobj\u001b[0m\u001b[0;34m=\u001b[0m\u001b[0mself\u001b[0m\u001b[0;34m.\u001b[0m\u001b[0m_fobj\u001b[0m\u001b[0;34m,\u001b[0m \u001b[0mfeval\u001b[0m\u001b[0;34m=\u001b[0m\u001b[0meval_metrics_callable\u001b[0m\u001b[0;34m,\u001b[0m\u001b[0;34m\u001b[0m\u001b[0;34m\u001b[0m\u001b[0m\n\u001b[1;32m    616\u001b[0m                               \u001b[0mverbose_eval\u001b[0m\u001b[0;34m=\u001b[0m\u001b[0mverbose\u001b[0m\u001b[0;34m,\u001b[0m \u001b[0mfeature_name\u001b[0m\u001b[0;34m=\u001b[0m\u001b[0mfeature_name\u001b[0m\u001b[0;34m,\u001b[0m\u001b[0;34m\u001b[0m\u001b[0;34m\u001b[0m\u001b[0m\n\u001b[0;32m--> 617\u001b[0;31m                               callbacks=callbacks, init_model=init_model)\n\u001b[0m\u001b[1;32m    618\u001b[0m \u001b[0;34m\u001b[0m\u001b[0m\n\u001b[1;32m    619\u001b[0m         \u001b[0;32mif\u001b[0m \u001b[0mevals_result\u001b[0m\u001b[0;34m:\u001b[0m\u001b[0;34m\u001b[0m\u001b[0;34m\u001b[0m\u001b[0m\n",
      "\u001b[0;32m~/miniconda3/envs/ddm2/lib/python3.7/site-packages/lightgbm/engine.py\u001b[0m in \u001b[0;36mtrain\u001b[0;34m(params, train_set, num_boost_round, valid_sets, valid_names, fobj, feval, init_model, feature_name, categorical_feature, early_stopping_rounds, evals_result, verbose_eval, learning_rates, keep_training_booster, callbacks)\u001b[0m\n\u001b[1;32m    250\u001b[0m                                     evaluation_result_list=None))\n\u001b[1;32m    251\u001b[0m \u001b[0;34m\u001b[0m\u001b[0m\n\u001b[0;32m--> 252\u001b[0;31m         \u001b[0mbooster\u001b[0m\u001b[0;34m.\u001b[0m\u001b[0mupdate\u001b[0m\u001b[0;34m(\u001b[0m\u001b[0mfobj\u001b[0m\u001b[0;34m=\u001b[0m\u001b[0mfobj\u001b[0m\u001b[0;34m)\u001b[0m\u001b[0;34m\u001b[0m\u001b[0;34m\u001b[0m\u001b[0m\n\u001b[0m\u001b[1;32m    253\u001b[0m \u001b[0;34m\u001b[0m\u001b[0m\n\u001b[1;32m    254\u001b[0m         \u001b[0mevaluation_result_list\u001b[0m \u001b[0;34m=\u001b[0m \u001b[0;34m[\u001b[0m\u001b[0;34m]\u001b[0m\u001b[0;34m\u001b[0m\u001b[0;34m\u001b[0m\u001b[0m\n",
      "\u001b[0;32m~/miniconda3/envs/ddm2/lib/python3.7/site-packages/lightgbm/basic.py\u001b[0m in \u001b[0;36mupdate\u001b[0;34m(self, train_set, fobj)\u001b[0m\n\u001b[1;32m   2458\u001b[0m             _safe_call(_LIB.LGBM_BoosterUpdateOneIter(\n\u001b[1;32m   2459\u001b[0m                 \u001b[0mself\u001b[0m\u001b[0;34m.\u001b[0m\u001b[0mhandle\u001b[0m\u001b[0;34m,\u001b[0m\u001b[0;34m\u001b[0m\u001b[0;34m\u001b[0m\u001b[0m\n\u001b[0;32m-> 2460\u001b[0;31m                 ctypes.byref(is_finished)))\n\u001b[0m\u001b[1;32m   2461\u001b[0m             \u001b[0mself\u001b[0m\u001b[0;34m.\u001b[0m\u001b[0m__is_predicted_cur_iter\u001b[0m \u001b[0;34m=\u001b[0m \u001b[0;34m[\u001b[0m\u001b[0;32mFalse\u001b[0m \u001b[0;32mfor\u001b[0m \u001b[0m_\u001b[0m \u001b[0;32min\u001b[0m \u001b[0mrange_\u001b[0m\u001b[0;34m(\u001b[0m\u001b[0mself\u001b[0m\u001b[0;34m.\u001b[0m\u001b[0m__num_dataset\u001b[0m\u001b[0;34m)\u001b[0m\u001b[0;34m]\u001b[0m\u001b[0;34m\u001b[0m\u001b[0;34m\u001b[0m\u001b[0m\n\u001b[1;32m   2462\u001b[0m             \u001b[0;32mreturn\u001b[0m \u001b[0mis_finished\u001b[0m\u001b[0;34m.\u001b[0m\u001b[0mvalue\u001b[0m \u001b[0;34m==\u001b[0m \u001b[0;36m1\u001b[0m\u001b[0;34m\u001b[0m\u001b[0;34m\u001b[0m\u001b[0m\n",
      "\u001b[0;32m~/miniconda3/envs/ddm2/lib/python3.7/site-packages/lightgbm/basic.py\u001b[0m in \u001b[0;36m_safe_call\u001b[0;34m(ret)\u001b[0m\n\u001b[1;32m     53\u001b[0m     \"\"\"\n\u001b[1;32m     54\u001b[0m     \u001b[0;32mif\u001b[0m \u001b[0mret\u001b[0m \u001b[0;34m!=\u001b[0m \u001b[0;36m0\u001b[0m\u001b[0;34m:\u001b[0m\u001b[0;34m\u001b[0m\u001b[0;34m\u001b[0m\u001b[0m\n\u001b[0;32m---> 55\u001b[0;31m         \u001b[0;32mraise\u001b[0m \u001b[0mLightGBMError\u001b[0m\u001b[0;34m(\u001b[0m\u001b[0mdecode_string\u001b[0m\u001b[0;34m(\u001b[0m\u001b[0m_LIB\u001b[0m\u001b[0;34m.\u001b[0m\u001b[0mLGBM_GetLastError\u001b[0m\u001b[0;34m(\u001b[0m\u001b[0;34m)\u001b[0m\u001b[0;34m)\u001b[0m\u001b[0;34m)\u001b[0m\u001b[0;34m\u001b[0m\u001b[0;34m\u001b[0m\u001b[0m\n\u001b[0m\u001b[1;32m     56\u001b[0m \u001b[0;34m\u001b[0m\u001b[0m\n\u001b[1;32m     57\u001b[0m \u001b[0;34m\u001b[0m\u001b[0m\n",
      "\u001b[0;31mLightGBMError\u001b[0m: Check failed: (best_split_info.right_count) > (0) at /Users/runner/work/1/s/python-package/compile/src/treelearner/serial_tree_learner.cpp, line 661 .\n"
     ]
    }
   ],
   "source": [
    "model = train_models(cfg)"
   ]
  },
  {
   "cell_type": "markdown",
   "metadata": {},
   "source": [
    "### Save Model"
   ]
  },
  {
   "cell_type": "code",
   "execution_count": null,
   "metadata": {},
   "outputs": [],
   "source": [
    "model.save_model(filename=cfg[\"model\"][\"saver\"][\"filename\"])"
   ]
  },
  {
   "cell_type": "markdown",
   "metadata": {},
   "source": [
    "### Data Structure of Saved model"
   ]
  },
  {
   "cell_type": "code",
   "execution_count": null,
   "metadata": {},
   "outputs": [],
   "source": [
    "logger.info(f\"Input_cols:  {model.features}\")\n",
    "logger.info(f\"Output_cols: {model.labels}\")"
   ]
  },
  {
   "cell_type": "markdown",
   "metadata": {},
   "source": [
    "## 4. Model Evaluations\n",
    "\n",
    "We provide three methods for evaluating the errors of our trained models:\n",
    "\n",
    "1. Model predictive error: using a specified metric (such as RMSE) and a test set, we evaluate the metric on the test set.\n",
    "2. Visualization of per-iteration predictions vs a test set\n",
    "3. Visualization of sequential predictions vs a test set"
   ]
  },
  {
   "cell_type": "markdown",
   "metadata": {},
   "source": [
    "### 4.1. Estimated Prediction Error\n",
    "#### 4.1.a. Estimated Prediction Error: Per-Iteration Predictions"
   ]
  },
  {
   "cell_type": "code",
   "execution_count": null,
   "metadata": {},
   "outputs": [],
   "source": [
    "from assessment_metrics_loader import available_metrics\n",
    "rms_error = available_metrics[\"root_mean_squared_error\"]\n",
    "ms_error = available_metrics[\"mean_squared_error\"]"
   ]
  },
  {
   "cell_type": "code",
   "execution_count": null,
   "metadata": {},
   "outputs": [],
   "source": [
    "X_test, y_test = model.get_test_set(grouped_per_episode=False)\n",
    "\n",
    "per_iteration_eval_table = model.evaluate(rms_error, X_test, y_test, marginal=True)\n",
    "\n",
    "per_iteration_eval_table.rename(columns = {'score':'score_per_it'}, inplace = True)"
   ]
  },
  {
   "cell_type": "code",
   "execution_count": null,
   "metadata": {},
   "outputs": [],
   "source": [
    "if (per_iteration_eval_table[\"score_per_it\"] > 1.0).any():\n",
    "    logger.warn(\"Per-iteration assessment error is high. Please, review your model\")\n",
    "\n",
    "per_iteration_eval_table"
   ]
  },
  {
   "cell_type": "markdown",
   "metadata": {},
   "source": [
    "#### 4.1.b. Estimated Prediction Error: Per-Iteration Predictions"
   ]
  },
  {
   "cell_type": "code",
   "execution_count": null,
   "metadata": {},
   "outputs": [],
   "source": [
    "# number of iterations to predict sequentially\n",
    "it_per_episode = 50"
   ]
  },
  {
   "cell_type": "code",
   "execution_count": null,
   "metadata": {},
   "outputs": [],
   "source": [
    "X_test_grouped, y_test_grouped = model.get_test_set(grouped_per_episode=True)\n",
    "print(type(X_test_grouped))\n",
    "\n",
    "sequential_eval_table = model.evaluate_sequentially(\n",
    "    rms_error,\n",
    "    X_test_grouped,\n",
    "    y_test_grouped,\n",
    "    marginal=True,\n",
    "    it_per_episode=it_per_episode\n",
    ")\n",
    "\n",
    "sequential_eval_table.rename(columns = {'score':'seq_score'}, inplace = True)"
   ]
  },
  {
   "cell_type": "code",
   "execution_count": null,
   "metadata": {},
   "outputs": [],
   "source": [
    "if (sequential_eval_table[\"seq_score\"] > 1.0).any():\n",
    "    logger.warn(\"Sequentially analyzed assessment error is high. Please, review your model\")\n",
    "\n",
    "sequential_eval_table"
   ]
  },
  {
   "cell_type": "markdown",
   "metadata": {},
   "source": [
    "### 4.2. Per-Iteration Predictions"
   ]
  },
  {
   "cell_type": "code",
   "execution_count": null,
   "metadata": {},
   "outputs": [],
   "source": [
    "action_feat = \"action_command\""
   ]
  },
  {
   "cell_type": "code",
   "execution_count": null,
   "metadata": {},
   "outputs": [],
   "source": [
    "X_test, y_test = model.get_test_set(grouped_per_episode=False)\n",
    "preds = model.predict(X_test)"
   ]
  },
  {
   "cell_type": "code",
   "execution_count": null,
   "metadata": {},
   "outputs": [],
   "source": [
    "# Plot results graphs\n",
    "label_count = np.shape(preds)[1]\n",
    "fig,axs = plt.subplots(3,2,)\n",
    "for i in range(label_count):\n",
    "    axs[i//2,i%2].set_title(f\"Per-iteration predictions: {model.labels[i]}\")\n",
    "    axs[i//2,i%2].plot(y_test[:,i], \"green\")\n",
    "    axs[i//2,i%2].plot(preds[:,i], \"brown\")\n",
    "    \n",
    "# select section to zoom in (for both action & episode visualization)\n",
    "sample_from = 0\n",
    "sample_to = 100\n",
    "\n",
    "# Plot action changes\n",
    "action_idx = model.features.index(action_feat)\n",
    "axs[(i+1)//2,(i+1)%2].set_title(f\"Plot [{sample_from}:{sample_to}] actions (ensure action is not stale)\")\n",
    "axs[(i+1)//2,(i+1)%2].plot(X[sample_from:sample_to,action_idx])\n",
    "    \n",
    "# Plot prediction graph -- with zoom on 100 iterations\n",
    "action_idx = model.features.index(action_feat)\n",
    "feat_idx = 0\n",
    "axs[(i+2)//2,(i+2)%2].set_title(f\"Plot [{sample_from}:{sample_to}] state preds: {model.labels[feat_idx]}\")\n",
    "axs[(i+2)//2,(i+2)%2].plot(y_test[sample_from:sample_to,feat_idx], \"green\")\n",
    "axs[(i+2)//2,(i+2)%2].plot(preds[sample_from:sample_to,feat_idx], \"brown\")"
   ]
  },
  {
   "cell_type": "markdown",
   "metadata": {},
   "source": [
    "### 4.3. Sequential Predictions"
   ]
  },
  {
   "cell_type": "code",
   "execution_count": null,
   "metadata": {},
   "outputs": [],
   "source": [
    "# number of iterations to predict sequentially\n",
    "# - taking the value defined above by default -\n",
    "it_per_episode = it_per_episode\n",
    "action_feat = action_feat"
   ]
  },
  {
   "cell_type": "code",
   "execution_count": null,
   "metadata": {},
   "outputs": [],
   "source": [
    "X_test_grouped, y_test_grouped = model.get_test_set(grouped_per_episode=True)\n",
    "\n",
    "preds_sequentially, labels_sequentially = model.predict_sequentially(\n",
    "    X_test_grouped,\n",
    "    y_test_grouped,\n",
    "    it_per_episode=it_per_episode\n",
    ")"
   ]
  },
  {
   "cell_type": "code",
   "execution_count": null,
   "metadata": {},
   "outputs": [],
   "source": [
    "# Plot results graphs\n",
    "label_count = np.shape(preds_sequentially)[1]\n",
    "fig,axs = plt.subplots(3,2,)\n",
    "for i in range(label_count):\n",
    "    axs[i//2,i%2].set_title(f\"Sequential predictions: {model.labels[i]}\")\n",
    "    axs[i//2,i%2].plot(labels_sequentially[:,i], \"green\")\n",
    "    axs[i//2,i%2].plot(preds_sequentially[:,i], \"brown\")\n",
    "    \n",
    "# select section to zoom in (for both action & episode visualization)\n",
    "sample_from = 0\n",
    "sample_to = 100\n",
    "\n",
    "# Plot action changes\n",
    "action_idx = model.features.index(action_feat)\n",
    "axs[(i+1)//2,(i+1)%2].set_title(f\"Plot [{sample_from}:{sample_to}] actions (ensure action is not stale)\")\n",
    "axs[(i+1)//2,(i+1)%2].plot(X[sample_from:sample_to,action_idx])\n",
    "    \n",
    "# Plot prediction graph -- with zoom on 100 iterations\n",
    "action_idx = model.features.index(action_feat)\n",
    "feat_idx = 0\n",
    "axs[(i+2)//2,(i+2)%2].set_title(f\"Plot [{sample_from}:{sample_to}] state preds: {model.labels[feat_idx]}\")\n",
    "axs[(i+2)//2,(i+2)%2].plot(labels_sequentially[sample_from:sample_to,feat_idx], \"green\")\n",
    "axs[(i+2)//2,(i+2)%2].plot(preds_sequentially[sample_from:sample_to,feat_idx], \"brown\")"
   ]
  },
  {
   "cell_type": "markdown",
   "metadata": {},
   "source": [
    "## 5. Comparing Model Evaluations\n",
    "\n",
    "If you want to compare various models, you can use the following section to save them in between runs.\n",
    "\n",
    "1. Select appropriate \"model_name\" tag, and run this section\n",
    "2. Change config through \"config.yaml\" (located at 'conf' folder)\n",
    "3. Rerun from Model Build, until this section\n",
    "4. Define a new value for \"model_name\" tag, and run this section again"
   ]
  },
  {
   "cell_type": "code",
   "execution_count": null,
   "metadata": {},
   "outputs": [],
   "source": [
    "# select model name, and feats to extract\n",
    "model_name = \"xgb\""
   ]
  },
  {
   "cell_type": "code",
   "execution_count": null,
   "metadata": {},
   "outputs": [],
   "source": [
    "# per-iteration & sequential scores\n",
    "model_per_it_scores = copy.deepcopy(per_iteration_eval_table)\n",
    "model_sequential_scores = copy.deepcopy(sequential_eval_table)"
   ]
  },
  {
   "cell_type": "code",
   "execution_count": null,
   "metadata": {},
   "outputs": [],
   "source": [
    "# initialize models dictionary if it doesn't exist already\n",
    "if 'models_dict' not in locals():\n",
    "    models_dict = dict()\n",
    "\n",
    "# append tables to model using selected model name as key\n",
    "models_dict[model_name] = (model_per_it_scores, model_sequential_scores)\n",
    "\n",
    "# redefine column names if needed\n",
    "for model_name, score_tables in models_dict.items():\n",
    "    for score_table in score_tables:\n",
    "        for col_name in score_table.columns:\n",
    "            if \"score\" in col_name and model_name not in col_name:\n",
    "                score_table.rename(columns = {col_name:model_name+\"_\"+col_name}, inplace = True)\n",
    "\n",
    "# concatenate across all models\n",
    "all_scores = None\n",
    "for model_name, score_tables in models_dict.items():\n",
    "    for score_table in score_tables:\n",
    "        if all_scores is None:\n",
    "            all_scores = score_table\n",
    "        else:\n",
    "            all_scores = all_scores.merge(score_table,how='outer')\n",
    "\n",
    "all_scores"
   ]
  }
 ],
 "metadata": {
  "kernelspec": {
   "display_name": "Python [conda env:ddm2]",
   "language": "python",
   "name": "conda-env-ddm2-py"
  },
  "language_info": {
   "codemirror_mode": {
    "name": "ipython",
    "version": 3
   },
   "file_extension": ".py",
   "mimetype": "text/x-python",
   "name": "python",
   "nbconvert_exporter": "python",
   "pygments_lexer": "ipython3",
   "version": "3.7.7"
  }
 },
 "nbformat": 4,
 "nbformat_minor": 5
}
